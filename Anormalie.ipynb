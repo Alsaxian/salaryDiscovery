{
 "cells": [
  {
   "cell_type": "code",
   "execution_count": 1,
   "metadata": {},
   "outputs": [
    {
     "data": {
      "text/plain": [
       "array(['age', 'workclass', 'fnlwgt', 'education', 'educationNr',\n",
       "       'maritalStatus', 'occupation', 'relationship', 'race', 'sex',\n",
       "       'capitalGain', 'capitalLoss', 'hoursPerWeek', 'nativeCountry',\n",
       "       'salary', 'countryProvided', 'country_typeI', 'nationals',\n",
       "       'educationGeneral'], dtype=object)"
      ]
     },
     "execution_count": 1,
     "metadata": {},
     "output_type": "execute_result"
    }
   ],
   "source": [
    "import numpy as np\n",
    "import pandas as pd\n",
    "\n",
    "import dill as pickle\n",
    "\n",
    "complete_preprocessed = pd.read_pickle(\"preprocessed\")\n",
    "complete = pd.read_pickle(\"complete\")\n",
    "tsne = pickle.load(open(\"tSNE\", \"rb\"))\n",
    "complete.columns.values"
   ]
  },
  {
   "cell_type": "code",
   "execution_count": null,
   "metadata": {},
   "outputs": [],
   "source": []
  }
 ],
 "metadata": {
  "kernelspec": {
   "display_name": "Python 3",
   "language": "python",
   "name": "python3"
  },
  "language_info": {
   "codemirror_mode": {
    "name": "ipython",
    "version": 3
   },
   "file_extension": ".py",
   "mimetype": "text/x-python",
   "name": "python",
   "nbconvert_exporter": "python",
   "pygments_lexer": "ipython3",
   "version": "3.6.0"
  }
 },
 "nbformat": 4,
 "nbformat_minor": 2
}

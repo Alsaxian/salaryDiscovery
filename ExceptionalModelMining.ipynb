{
 "cells": [
  {
   "cell_type": "code",
   "execution_count": 23,
   "metadata": {},
   "outputs": [],
   "source": [
    "import pickle\n",
    "import numpy as np\n",
    "import pandas as pd\n",
    "\n",
    "from sklearn import linear_model\n",
    "\n",
    "complete_preprocessed = pd.read_pickle(\"preprocessed\")\n",
    "complete = pd.read_pickle(\"complete\")\n",
    "tsne = pickle.load(open(\"tSNE\", \"rb\"))"
   ]
  },
  {
   "cell_type": "code",
   "execution_count": 21,
   "metadata": {},
   "outputs": [
    {
     "data": {
      "text/plain": [
       "array(['age', 'capitalGain', 'capitalLoss', 'hoursPerWeek',\n",
       "       'countryProvided', 'country_typeI', 'nationals', 'educationGeneral',\n",
       "       'workclass_Federal-gov', 'workclass_Local-gov',\n",
       "       'workclass_Never-worked', 'workclass_Private',\n",
       "       'workclass_Self-emp-inc', 'workclass_Self-emp-not-inc',\n",
       "       'workclass_State-gov', 'workclass_Without-pay',\n",
       "       'occupation_Adm-clerical', 'occupation_Armed-Forces',\n",
       "       'occupation_Craft-repair', 'occupation_Exec-managerial',\n",
       "       'occupation_Farming-fishing', 'occupation_Handlers-cleaners',\n",
       "       'occupation_Machine-op-inspct', 'occupation_Other-service',\n",
       "       'occupation_Priv-house-serv', 'occupation_Prof-specialty',\n",
       "       'occupation_Protective-serv', 'occupation_Sales',\n",
       "       'occupation_Tech-support', 'occupation_Transport-moving',\n",
       "       'salary_<=50K', 'salary_>50K', 'maritalStatus_Divorced',\n",
       "       'maritalStatus_Married-AF-spouse',\n",
       "       'maritalStatus_Married-spouse-absent',\n",
       "       'maritalStatus_Never-married', 'maritalStatus_Separated',\n",
       "       'maritalStatus_Widowed', 'relationship_Not-in-family',\n",
       "       'relationship_Other-relative', 'relationship_Own-child',\n",
       "       'relationship_Unmarried', 'relationship_Wife',\n",
       "       'race_Amer-Indian-Eskimo', 'race_Asian-Pac-Islander', 'race_Black',\n",
       "       'race_Other', 'isFemale'], dtype=object)"
      ]
     },
     "execution_count": 21,
     "metadata": {},
     "output_type": "execute_result"
    }
   ],
   "source": [
    "complete.nativeCountry.value_counts()\n",
    "complete_preprocessed.columns.values"
   ]
  },
  {
   "cell_type": "code",
   "execution_count": 13,
   "metadata": {},
   "outputs": [
    {
     "data": {
      "text/plain": [
       "array(['United-States', nan, 'Peru', 'Guatemala', 'Mexico',\n",
       "       'Dominican-Republic', 'Ireland', 'Germany', 'Philippines',\n",
       "       'Thailand', 'Haiti', 'El-Salvador', 'Puerto-Rico', 'Vietnam',\n",
       "       'South', 'Columbia', 'Japan', 'India', 'Cambodia', 'Poland', 'Laos',\n",
       "       'England', 'Cuba', 'Taiwan', 'Italy', 'Canada', 'Portugal', 'China',\n",
       "       'Nicaragua', 'Honduras', 'Iran', 'Scotland', 'Jamaica', 'Ecuador',\n",
       "       'Yugoslavia', 'Hungary', 'Hong', 'Greece', 'Trinadad&Tobago',\n",
       "       'Outlying-US(Guam-USVI-etc)', 'France', 'Holand-Netherlands'], dtype=object)"
      ]
     },
     "execution_count": 13,
     "metadata": {},
     "output_type": "execute_result"
    }
   ],
   "source": [
    "complete.nativeCountry.unique()"
   ]
  },
  {
   "cell_type": "code",
   "execution_count": 16,
   "metadata": {},
   "outputs": [
    {
     "name": "stdout",
     "output_type": "stream",
     "text": [
      "United-States :  0.157309442872787\n",
      "nan :  nan\n",
      "Peru :  0.12567934782608695\n",
      "Guatemala :  0.045454545454545456\n",
      "Mexico :  0.05103180862250263\n",
      "Dominican-Republic :  0.07129854368932038\n",
      "Ireland :  0.11908783783783784\n",
      "Germany :  0.19614684466019416\n",
      "Philippines :  0.20084745762711864\n",
      "Thailand :  0.20520833333333333\n",
      "Haiti :  0.10333333333333333\n",
      "El-Salvador :  0.07379032258064516\n",
      "Puerto-Rico :  0.07982336956521739\n",
      "Vietnam :  0.13299418604651161\n",
      "South :  0.19103260869565217\n",
      "Columbia :  0.14154411764705882\n",
      "Japan :  0.25373641304347827\n",
      "India :  0.4190811258278146\n",
      "Cambodia :  0.11049107142857142\n",
      "Poland :  0.1540948275862069\n",
      "Laos :  0.13179347826086957\n",
      "England :  0.23671259842519685\n",
      "Cuba :  0.17278079710144928\n",
      "Taiwan :  0.4567307692307692\n",
      "Italy :  0.1318452380952381\n",
      "Canada :  0.2127403846153846\n",
      "Portugal :  0.05177238805970149\n",
      "China :  0.3140368852459016\n",
      "Nicaragua :  0.12755102040816327\n",
      "Honduras :  0.1265625\n",
      "Iran :  0.2934322033898305\n",
      "Scotland :  0.15029761904761904\n",
      "Jamaica :  0.1317806603773585\n",
      "Ecuador :  0.12013888888888889\n",
      "Yugoslavia :  0.10326086956521739\n",
      "Hungary :  0.21710526315789475\n",
      "Hong :  0.234375\n",
      "Greece :  0.15433673469387754\n",
      "Trinadad&Tobago :  0.11921296296296297\n",
      "Outlying-US(Guam-USVI-etc) :  0.12907608695652173\n",
      "France :  0.3059210526315789\n",
      "Holand-Netherlands :  0.125\n"
     ]
    }
   ],
   "source": [
    "for Country in complete.nativeCountry.unique():\n",
    "    print(Country, \": \", complete_preprocessed.loc[complete.nativeCountry == \n",
    "                                                   Country].educationGeneral.mean())\n",
    "\n",
    "\n",
    "\n"
   ]
  },
  {
   "cell_type": "code",
   "execution_count": 10,
   "metadata": {},
   "outputs": [
    {
     "data": {
      "text/plain": [
       "0.25373641304347827"
      ]
     },
     "execution_count": 10,
     "metadata": {},
     "output_type": "execute_result"
    }
   ],
   "source": [
    "complete.loc[complete.nativeCountry == \"Japan\"].educationGeneral.mean()"
   ]
  },
  {
   "cell_type": "code",
   "execution_count": 22,
   "metadata": {},
   "outputs": [
    {
     "name": "stdout",
     "output_type": "stream",
     "text": [
      "United-States :  0.243977003103\n",
      "nan :  nan\n",
      "Peru :  0.0869565217391\n",
      "Guatemala :  0.0340909090909\n",
      "Mexico :  0.049421661409\n",
      "Dominican-Republic :  0.0485436893204\n",
      "Ireland :  0.297297297297\n",
      "Germany :  0.281553398058\n",
      "Philippines :  0.28813559322\n",
      "Thailand :  0.166666666667\n",
      "Haiti :  0.12\n",
      "El-Salvador :  0.0709677419355\n",
      "Puerto-Rico :  0.108695652174\n",
      "Vietnam :  0.0813953488372\n",
      "South :  0.173913043478\n",
      "Columbia :  0.0470588235294\n",
      "Japan :  0.347826086957\n",
      "India :  0.41059602649\n",
      "Cambodia :  0.321428571429\n",
      "Poland :  0.195402298851\n",
      "Laos :  0.0869565217391\n",
      "England :  0.370078740157\n",
      "Cuba :  0.246376811594\n",
      "Taiwan :  0.4\n",
      "Italy :  0.32380952381\n",
      "Canada :  0.346153846154\n",
      "Portugal :  0.179104477612\n",
      "China :  0.295081967213\n",
      "Nicaragua :  0.0612244897959\n",
      "Honduras :  0.1\n",
      "Iran :  0.372881355932\n",
      "Scotland :  0.142857142857\n",
      "Jamaica :  0.141509433962\n",
      "Ecuador :  0.133333333333\n",
      "Yugoslavia :  0.347826086957\n",
      "Hungary :  0.315789473684\n",
      "Hong :  0.266666666667\n",
      "Greece :  0.367346938776\n",
      "Trinadad&Tobago :  0.0740740740741\n",
      "Outlying-US(Guam-USVI-etc) :  0.0434782608696\n",
      "France :  0.421052631579\n",
      "Holand-Netherlands :  0.0\n"
     ]
    }
   ],
   "source": [
    "for Country in complete.nativeCountry.unique():\n",
    "    print(Country, \": \", complete_preprocessed.loc[complete.nativeCountry == \n",
    "                                                   Country]['salary_>50K'].mean())"
   ]
  },
  {
   "cell_type": "code",
   "execution_count": 38,
   "metadata": {},
   "outputs": [
    {
     "name": "stderr",
     "output_type": "stream",
     "text": [
      "/usr/bin/usr/bin/anaconda3/lib/python3.6/site-packages/ipykernel/__main__.py:7: FutureWarning: reshape is deprecated and will raise in a subsequent release. Please use .values.reshape(...) instead\n"
     ]
    },
    {
     "data": {
      "text/plain": [
       "1.059031629605254"
      ]
     },
     "execution_count": 38,
     "metadata": {},
     "output_type": "execute_result"
    }
   ],
   "source": [
    "China = complete_preprocessed.loc[complete.nativeCountry == \"China\"]\n",
    "\n",
    "\n",
    "logistic = linear_model.LogisticRegression()\n",
    "# China.educationGeneral.reshape(-1, 1).shape\n",
    "# #China[\"salary_>50K\"].shape\n",
    "logistic.fit(China.educationGeneral.reshape(-1, 1), China[\"salary_>50K\"])\n",
    "logistic.coef_[0][0]"
   ]
  },
  {
   "cell_type": "code",
   "execution_count": 41,
   "metadata": {},
   "outputs": [
    {
     "name": "stderr",
     "output_type": "stream",
     "text": [
      "/usr/bin/usr/bin/anaconda3/lib/python3.6/site-packages/ipykernel/__main__.py:4: FutureWarning: reshape is deprecated and will raise in a subsequent release. Please use .values.reshape(...) instead\n",
      "/usr/bin/usr/bin/anaconda3/lib/python3.6/site-packages/ipykernel/__main__.py:6: FutureWarning: reshape is deprecated and will raise in a subsequent release. Please use .values.reshape(...) instead\n"
     ]
    },
    {
     "name": "stdout",
     "output_type": "stream",
     "text": [
      "United-States , slope:  4.03913523231 , accuracy:  0.775848695017\n",
      "Peru , slope:  -0.0520385877226 , accuracy:  0.913043478261\n",
      "Guatemala , slope:  -0.00780690038597 , accuracy:  0.965909090909\n",
      "Mexico , slope:  3.28454230937 , accuracy:  0.951629863302\n",
      "Dominican-Republic , slope:  0.430515033986 , accuracy:  0.95145631068\n",
      "Ireland , slope:  -0.0236230591525 , accuracy:  0.702702702703\n",
      "Germany , slope:  1.99790502906 , accuracy:  0.752427184466\n",
      "Philippines , slope:  2.1527928062 , accuracy:  0.725423728814\n",
      "Thailand , slope:  0.873816935274 , accuracy:  0.833333333333\n",
      "Haiti , slope:  0.269669848703 , accuracy:  0.88\n",
      "El-Salvador , slope:  2.09959915982 , accuracy:  0.929032258065\n",
      "Puerto-Rico , slope:  0.721505020915 , accuracy:  0.891304347826\n",
      "Vietnam , slope:  0.258541418038 , accuracy:  0.918604651163\n",
      "South , slope:  0.87328666807 , accuracy:  0.826086956522\n",
      "Columbia , slope:  1.54274923878 , accuracy:  0.952941176471\n",
      "Japan , slope:  1.31950370803 , accuracy:  0.663043478261\n",
      "India , slope:  1.83456655751 , accuracy:  0.682119205298\n",
      "Cambodia , slope:  0.205910590495 , accuracy:  0.678571428571\n",
      "Poland , slope:  1.13749045617 , accuracy:  0.804597701149\n",
      "Laos , slope:  0.448986371543 , accuracy:  0.913043478261\n",
      "England , slope:  1.76940715009 , accuracy:  0.661417322835\n",
      "Cuba , slope:  1.84368439539 , accuracy:  0.782608695652\n",
      "Taiwan , slope:  2.12916013103 , accuracy:  0.769230769231\n",
      "Italy , slope:  1.96832990669 , accuracy:  0.742857142857\n",
      "Canada , slope:  0.989716138447 , accuracy:  0.664835164835\n",
      "Portugal , slope:  0.288837942219 , accuracy:  0.820895522388\n",
      "China , slope:  1.05903162961 , accuracy:  0.704918032787\n",
      "Nicaragua , slope:  -0.384829357429 , accuracy:  0.938775510204\n",
      "Honduras , slope:  0.687071099839 , accuracy:  0.9\n",
      "Iran , slope:  1.31589602588 , accuracy:  0.677966101695\n",
      "Scotland , slope:  -0.199492199074 , accuracy:  0.857142857143\n",
      "Jamaica , slope:  0.705144750764 , accuracy:  0.858490566038\n",
      "Ecuador , slope:  0.416397709173 , accuracy:  0.866666666667\n",
      "Yugoslavia , slope:  0.024565300936 , accuracy:  0.652173913043\n",
      "Hungary , slope:  0.587307246504 , accuracy:  0.684210526316\n",
      "Hong , slope:  1.18527518236 , accuracy:  0.733333333333\n",
      "Greece , slope:  1.0873067232 , accuracy:  0.65306122449\n",
      "Trinadad&Tobago , slope:  -0.335812678916 , accuracy:  0.925925925926\n",
      "Outlying-US(Guam-USVI-etc) , slope:  -0.246477312034 , accuracy:  0.95652173913\n",
      "France , slope:  0.351932311856 , accuracy:  0.578947368421\n"
     ]
    },
    {
     "ename": "ValueError",
     "evalue": "This solver needs samples of at least 2 classes in the data, but the data contains only one class: 0",
     "output_type": "error",
     "traceback": [
      "\u001b[0;31m----------------------------------------------------------------------\u001b[0m",
      "\u001b[0;31mValueError\u001b[0m                           Traceback (most recent call last)",
      "\u001b[0;32m<ipython-input-41-190846d6f763>\u001b[0m in \u001b[0;36m<module>\u001b[0;34m()\u001b[0m\n\u001b[1;32m      2\u001b[0m     \u001b[0mcountry\u001b[0m \u001b[0;34m=\u001b[0m \u001b[0mcomplete_preprocessed\u001b[0m\u001b[0;34m.\u001b[0m\u001b[0mloc\u001b[0m\u001b[0;34m[\u001b[0m\u001b[0mcomplete\u001b[0m\u001b[0;34m.\u001b[0m\u001b[0mnativeCountry\u001b[0m \u001b[0;34m==\u001b[0m \u001b[0mCountry\u001b[0m\u001b[0;34m]\u001b[0m\u001b[0;34m\u001b[0m\u001b[0m\n\u001b[1;32m      3\u001b[0m     \u001b[0mlogistic\u001b[0m \u001b[0;34m=\u001b[0m \u001b[0mlinear_model\u001b[0m\u001b[0;34m.\u001b[0m\u001b[0mLogisticRegression\u001b[0m\u001b[0;34m(\u001b[0m\u001b[0;34m)\u001b[0m\u001b[0;34m\u001b[0m\u001b[0m\n\u001b[0;32m----> 4\u001b[0;31m     \u001b[0mlogistic\u001b[0m\u001b[0;34m.\u001b[0m\u001b[0mfit\u001b[0m\u001b[0;34m(\u001b[0m\u001b[0mcountry\u001b[0m\u001b[0;34m.\u001b[0m\u001b[0meducationGeneral\u001b[0m\u001b[0;34m.\u001b[0m\u001b[0mreshape\u001b[0m\u001b[0;34m(\u001b[0m\u001b[0;34m-\u001b[0m\u001b[0;36m1\u001b[0m\u001b[0;34m,\u001b[0m \u001b[0;36m1\u001b[0m\u001b[0;34m)\u001b[0m\u001b[0;34m,\u001b[0m \u001b[0mcountry\u001b[0m\u001b[0;34m[\u001b[0m\u001b[0;34m\"salary_>50K\"\u001b[0m\u001b[0;34m]\u001b[0m\u001b[0;34m)\u001b[0m\u001b[0;34m\u001b[0m\u001b[0m\n\u001b[0m\u001b[1;32m      5\u001b[0m     print(Country, \", slope: \", logistic.coef_[0][0], \", accuracy: \", \n\u001b[1;32m      6\u001b[0m          logistic.score(country.educationGeneral.reshape(-1, 1), country[\"salary_>50K\"]))\n",
      "\u001b[0;32m/usr/bin/usr/bin/anaconda3/lib/python3.6/site-packages/sklearn/linear_model/logistic.py\u001b[0m in \u001b[0;36mfit\u001b[0;34m(self, X, y, sample_weight)\u001b[0m\n\u001b[1;32m   1231\u001b[0m                 \u001b[0mself\u001b[0m\u001b[0;34m.\u001b[0m\u001b[0mclass_weight\u001b[0m\u001b[0;34m,\u001b[0m \u001b[0mself\u001b[0m\u001b[0;34m.\u001b[0m\u001b[0mpenalty\u001b[0m\u001b[0;34m,\u001b[0m \u001b[0mself\u001b[0m\u001b[0;34m.\u001b[0m\u001b[0mdual\u001b[0m\u001b[0;34m,\u001b[0m \u001b[0mself\u001b[0m\u001b[0;34m.\u001b[0m\u001b[0mverbose\u001b[0m\u001b[0;34m,\u001b[0m\u001b[0;34m\u001b[0m\u001b[0m\n\u001b[1;32m   1232\u001b[0m                 \u001b[0mself\u001b[0m\u001b[0;34m.\u001b[0m\u001b[0mmax_iter\u001b[0m\u001b[0;34m,\u001b[0m \u001b[0mself\u001b[0m\u001b[0;34m.\u001b[0m\u001b[0mtol\u001b[0m\u001b[0;34m,\u001b[0m \u001b[0mself\u001b[0m\u001b[0;34m.\u001b[0m\u001b[0mrandom_state\u001b[0m\u001b[0;34m,\u001b[0m\u001b[0;34m\u001b[0m\u001b[0m\n\u001b[0;32m-> 1233\u001b[0;31m                 sample_weight=sample_weight)\n\u001b[0m\u001b[1;32m   1234\u001b[0m             \u001b[0mself\u001b[0m\u001b[0;34m.\u001b[0m\u001b[0mn_iter_\u001b[0m \u001b[0;34m=\u001b[0m \u001b[0mnp\u001b[0m\u001b[0;34m.\u001b[0m\u001b[0marray\u001b[0m\u001b[0;34m(\u001b[0m\u001b[0;34m[\u001b[0m\u001b[0mn_iter_\u001b[0m\u001b[0;34m]\u001b[0m\u001b[0;34m)\u001b[0m\u001b[0;34m\u001b[0m\u001b[0m\n\u001b[1;32m   1235\u001b[0m             \u001b[0;32mreturn\u001b[0m \u001b[0mself\u001b[0m\u001b[0;34m\u001b[0m\u001b[0m\n",
      "\u001b[0;32m/usr/bin/usr/bin/anaconda3/lib/python3.6/site-packages/sklearn/svm/base.py\u001b[0m in \u001b[0;36m_fit_liblinear\u001b[0;34m(X, y, C, fit_intercept, intercept_scaling, class_weight, penalty, dual, verbose, max_iter, tol, random_state, multi_class, loss, epsilon, sample_weight)\u001b[0m\n\u001b[1;32m    851\u001b[0m             raise ValueError(\"This solver needs samples of at least 2 classes\"\n\u001b[1;32m    852\u001b[0m                              \u001b[0;34m\" in the data, but the data contains only one\"\u001b[0m\u001b[0;34m\u001b[0m\u001b[0m\n\u001b[0;32m--> 853\u001b[0;31m                              \" class: %r\" % classes_[0])\n\u001b[0m\u001b[1;32m    854\u001b[0m \u001b[0;34m\u001b[0m\u001b[0m\n\u001b[1;32m    855\u001b[0m         \u001b[0mclass_weight_\u001b[0m \u001b[0;34m=\u001b[0m \u001b[0mcompute_class_weight\u001b[0m\u001b[0;34m(\u001b[0m\u001b[0mclass_weight\u001b[0m\u001b[0;34m,\u001b[0m \u001b[0mclasses_\u001b[0m\u001b[0;34m,\u001b[0m \u001b[0my\u001b[0m\u001b[0;34m)\u001b[0m\u001b[0;34m\u001b[0m\u001b[0m\n",
      "\u001b[0;31mValueError\u001b[0m: This solver needs samples of at least 2 classes in the data, but the data contains only one class: 0"
     ]
    }
   ],
   "source": [
    "for Country in complete.nativeCountry.dropna().unique():\n",
    "    country = complete_preprocessed.loc[complete.nativeCountry == Country]\n",
    "    logistic = linear_model.LogisticRegression()\n",
    "    logistic.fit(country.educationGeneral.reshape(-1, 1), country[\"salary_>50K\"])\n",
    "    print(Country, \", slope: \", logistic.coef_[0][0], \", accuracy: \", \n",
    "         logistic.score(country.educationGeneral.reshape(-1, 1), country[\"salary_>50K\"]))"
   ]
  },
  {
   "cell_type": "code",
   "execution_count": 47,
   "metadata": {
    "scrolled": false
   },
   "outputs": [
    {
     "name": "stdout",
     "output_type": "stream",
     "text": [
      "China\n",
      "1.00000    0.131148\n",
      "0.06250    0.229508\n",
      "0.25000    0.237705\n",
      "0.12500    0.073770\n",
      "0.00000    0.081967\n",
      "0.50000    0.196721\n",
      "0.03125    0.049180\n",
      "Name: educationGeneral, dtype: float64\n",
      "India\n",
      "0.50000    0.238411\n",
      "0.12500    0.165563\n",
      "0.25000    0.245033\n",
      "1.00000    0.211921\n",
      "0.06250    0.059603\n",
      "0.03125    0.072848\n",
      "0.00000    0.006623\n",
      "Name: educationGeneral, dtype: float64\n",
      "France\n",
      "0.0000    0.026316\n",
      "0.2500    0.263158\n",
      "0.5000    0.184211\n",
      "0.1250    0.263158\n",
      "0.0625    0.157895\n",
      "1.0000    0.105263\n",
      "Name: educationGeneral, dtype: float64\n",
      "El-Salvador\n",
      "0.03125    0.193548\n",
      "0.00000    0.354839\n",
      "0.06250    0.219355\n",
      "0.12500    0.148387\n",
      "0.25000    0.051613\n",
      "1.00000    0.012903\n",
      "0.50000    0.019355\n",
      "Name: educationGeneral, dtype: float64\n",
      "Philippines\n",
      "0.25000    0.355932\n",
      "0.06250    0.179661\n",
      "0.12500    0.264407\n",
      "0.00000    0.067797\n",
      "1.00000    0.047458\n",
      "0.03125    0.047458\n",
      "0.50000    0.037288\n",
      "Name: educationGeneral, dtype: float64\n",
      "Cuba\n",
      "0.03125    0.123188\n",
      "0.12500    0.231884\n",
      "0.06250    0.239130\n",
      "1.00000    0.057971\n",
      "0.00000    0.144928\n",
      "0.50000    0.065217\n",
      "0.25000    0.137681\n",
      "Name: educationGeneral, dtype: float64\n"
     ]
    }
   ],
   "source": [
    "for Country in [\"China\", \"India\", \"France\", \"El-Salvador\", \"Philippines\", \"Cuba\"]:\n",
    "    print(Country)\n",
    "    print(complete_preprocessed.loc[complete['nativeCountry'] == \n",
    "                                    Country].educationGeneral.value_counts(\n",
    "    normalize=True, sort=False))\n",
    "\n",
    "\n"
   ]
  },
  {
   "cell_type": "code",
   "execution_count": 53,
   "metadata": {},
   "outputs": [
    {
     "name": "stdout",
     "output_type": "stream",
     "text": [
      "Machine-op-inspct ,  -0.0157373327386\n",
      "Farming-fishing ,  -0.0235576707828\n",
      "Protective-serv ,  -0.0775911371198\n",
      "Other-service ,  0.154810805888\n",
      "Prof-specialty ,  0.0535596198031\n",
      "Craft-repair ,  -0.0338894508548\n",
      "Adm-clerical ,  0.0986347184908\n",
      "Exec-managerial ,  -0.0469318322903\n",
      "Tech-support ,  0.0504212135409\n",
      "Sales ,  0.208525536632\n",
      "Priv-house-serv ,  -0.0246145807421\n",
      "Transport-moving ,  -0.0295141205295\n",
      "Handlers-cleaners ,  0.1380785508\n",
      "Armed-Forces ,  0.325108486469\n"
     ]
    }
   ],
   "source": [
    "complete.age.corr(complete.hoursPerWeek)\n",
    "\n",
    "\n",
    "for Occupation in complete.occupation.dropna().unique():\n",
    "    occupation = complete_preprocessed.loc[complete.occupation == Occupation]\n",
    "    print(Occupation, \", \", occupation.age.corr(occupation.hoursPerWeek))"
   ]
  },
  {
   "cell_type": "code",
   "execution_count": 52,
   "metadata": {},
   "outputs": [
    {
     "name": "stdout",
     "output_type": "stream",
     "text": [
      "Machine-op-inspct ,  Private ,  -0.00186110143533\n",
      "Machine-op-inspct ,  Local-gov ,  -0.443979703321\n",
      "Machine-op-inspct ,  Self-emp-not-inc ,  -0.347891829126\n",
      "Machine-op-inspct ,  Federal-gov ,  0.283457961647\n",
      "Machine-op-inspct ,  State-gov ,  -0.267033031934\n",
      "Machine-op-inspct ,  Self-emp-inc ,  0.148122098623\n",
      "Machine-op-inspct ,  Without-pay ,  1.0\n",
      "Machine-op-inspct ,  Never-worked ,  nan\n",
      "Farming-fishing ,  Private ,  0.0493559481621\n",
      "Farming-fishing ,  Local-gov ,  -0.253449779172\n",
      "Farming-fishing ,  Self-emp-not-inc ,  -0.252992406619\n",
      "Farming-fishing ,  Federal-gov ,  nan\n",
      "Farming-fishing ,  State-gov ,  0.0348471350497\n",
      "Farming-fishing ,  Self-emp-inc ,  0.112077702518\n",
      "Farming-fishing ,  Without-pay ,  0.112863305524\n",
      "Farming-fishing ,  Never-worked ,  nan\n",
      "Protective-serv ,  Private ,  -0.0689730717062\n",
      "Protective-serv ,  Local-gov ,  -0.117356491496\n",
      "Protective-serv ,  Self-emp-not-inc ,  -0.0833782591914\n",
      "Protective-serv ,  Federal-gov ,  -0.0647918405499\n",
      "Protective-serv ,  State-gov ,  0.0541758383914\n",
      "Protective-serv ,  Self-emp-inc ,  -0.145991420361\n",
      "Protective-serv ,  Without-pay ,  nan\n",
      "Protective-serv ,  Never-worked ,  nan\n",
      "Other-service ,  Private ,  0.16226328353\n",
      "Other-service ,  Local-gov ,  -0.0286998398493\n",
      "Other-service ,  Self-emp-not-inc ,  -0.0393979913087\n",
      "Other-service ,  Federal-gov ,  0.26248532146\n",
      "Other-service ,  State-gov ,  0.207599289068\n",
      "Other-service ,  Self-emp-inc ,  0.150990005022\n",
      "Other-service ,  Without-pay ,  1.0\n",
      "Other-service ,  Never-worked ,  nan\n",
      "Prof-specialty ,  Private ,  0.0669839315157\n",
      "Prof-specialty ,  Local-gov ,  0.0172925640577\n",
      "Prof-specialty ,  Self-emp-not-inc ,  -0.0819569009821\n",
      "Prof-specialty ,  Federal-gov ,  0.0273427039392\n",
      "Prof-specialty ,  State-gov ,  0.133519130926\n",
      "Prof-specialty ,  Self-emp-inc ,  -0.0679955312284\n",
      "Prof-specialty ,  Without-pay ,  nan\n",
      "Prof-specialty ,  Never-worked ,  nan\n",
      "Craft-repair ,  Private ,  0.0160793819318\n",
      "Craft-repair ,  Local-gov ,  -0.00479551413288\n",
      "Craft-repair ,  Self-emp-not-inc ,  -0.234143029002\n",
      "Craft-repair ,  Federal-gov ,  -0.144797248126\n",
      "Craft-repair ,  State-gov ,  0.207203935452\n",
      "Craft-repair ,  Self-emp-inc , "
     ]
    },
    {
     "name": "stderr",
     "output_type": "stream",
     "text": [
      "/usr/bin/usr/bin/anaconda3/lib/python3.6/site-packages/numpy/lib/function_base.py:3159: RuntimeWarning: Degrees of freedom <= 0 for slice\n",
      "  c = cov(x, y, rowvar)\n",
      "/usr/bin/usr/bin/anaconda3/lib/python3.6/site-packages/numpy/lib/function_base.py:3093: RuntimeWarning: divide by zero encountered in double_scalars\n",
      "  c *= 1. / np.float64(fact)\n"
     ]
    },
    {
     "name": "stdout",
     "output_type": "stream",
     "text": [
      " 0.0103369292568\n",
      "Craft-repair ,  Without-pay ,  nan\n",
      "Craft-repair ,  Never-worked ,  nan\n",
      "Adm-clerical ,  Private ,  0.0975426167455\n",
      "Adm-clerical ,  Local-gov ,  -0.0256600346255\n",
      "Adm-clerical ,  Self-emp-not-inc ,  0.0408851687074\n",
      "Adm-clerical ,  Federal-gov ,  0.0385273302397\n",
      "Adm-clerical ,  State-gov ,  0.370353489433\n",
      "Adm-clerical ,  Self-emp-inc ,  -0.165380444705\n",
      "Adm-clerical ,  Without-pay ,  -0.99277775756\n",
      "Adm-clerical ,  Never-worked ,  nan\n",
      "Exec-managerial ,  Private ,  0.0294119301514\n",
      "Exec-managerial ,  Local-gov ,  -0.154997238935\n",
      "Exec-managerial ,  Self-emp-not-inc ,  -0.266431976841\n",
      "Exec-managerial ,  Federal-gov ,  -0.0604686438705\n",
      "Exec-managerial ,  State-gov ,  0.0704581417944\n",
      "Exec-managerial ,  Self-emp-inc ,  -0.207216753641\n",
      "Exec-managerial ,  Without-pay ,  nan\n",
      "Exec-managerial ,  Never-worked ,  nan\n",
      "Tech-support ,  Private ,  0.0501118194028\n",
      "Tech-support ,  Local-gov ,  -0.196655345287\n",
      "Tech-support ,  Self-emp-not-inc ,  -0.162545800877\n",
      "Tech-support ,  Federal-gov ,  0.0362870365307\n",
      "Tech-support ,  State-gov ,  0.337919950374\n",
      "Tech-support ,  Self-emp-inc ,  0.287136345557\n",
      "Tech-support ,  Without-pay ,  nan\n",
      "Tech-support ,  Never-worked ,  nan\n",
      "Sales ,  Private ,  0.234298603085\n",
      "Sales ,  Local-gov ,  -0.0283252902323\n",
      "Sales ,  Self-emp-not-inc ,  -0.168537914961\n",
      "Sales ,  Federal-gov ,  0.321785435687\n",
      "Sales ,  State-gov ,  0.292876921967\n",
      "Sales ,  Self-emp-inc ,  -0.204967349445\n",
      "Sales ,  Without-pay ,  nan\n",
      "Sales ,  Never-worked ,  nan\n",
      "Priv-house-serv ,  Private ,  -0.0246145807421\n",
      "Priv-house-serv ,  Local-gov ,  nan\n",
      "Priv-house-serv ,  Self-emp-not-inc ,  nan\n",
      "Priv-house-serv ,  Federal-gov ,  nan\n",
      "Priv-house-serv ,  State-gov ,  nan\n",
      "Priv-house-serv ,  Self-emp-inc ,  nan\n",
      "Priv-house-serv ,  Without-pay ,  nan\n",
      "Priv-house-serv ,  Never-worked ,  nan\n",
      "Transport-moving ,  Private ,  -0.00371810186576\n",
      "Transport-moving ,  Local-gov ,  -0.154981919564\n",
      "Transport-moving ,  Self-emp-not-inc ,  -0.279034991014\n",
      "Transport-moving ,  Federal-gov ,  0.219480303912\n",
      "Transport-moving ,  State-gov ,  0.138740674082\n",
      "Transport-moving ,  Self-emp-inc ,  0.0417949386429\n",
      "Transport-moving ,  Without-pay ,  nan\n",
      "Transport-moving ,  Never-worked ,  nan\n",
      "Handlers-cleaners ,  Private ,  0.133007118865\n",
      "Handlers-cleaners ,  Local-gov ,  0.113424830726\n",
      "Handlers-cleaners ,  Self-emp-not-inc ,  0.283626782152\n",
      "Handlers-cleaners ,  Federal-gov ,  0.157061541344\n",
      "Handlers-cleaners ,  State-gov ,  0.0913772991945\n",
      "Handlers-cleaners ,  Self-emp-inc ,  0.347384202854\n",
      "Handlers-cleaners ,  Without-pay ,  1.0\n",
      "Handlers-cleaners ,  Never-worked ,  nan\n",
      "Armed-Forces ,  Private ,  nan\n",
      "Armed-Forces ,  Local-gov ,  nan\n",
      "Armed-Forces ,  Self-emp-not-inc ,  nan\n",
      "Armed-Forces ,  Federal-gov ,  0.325108486469\n",
      "Armed-Forces ,  State-gov ,  nan\n",
      "Armed-Forces ,  Self-emp-inc ,  nan\n",
      "Armed-Forces ,  Without-pay ,  nan\n",
      "Armed-Forces ,  Never-worked ,  nan\n"
     ]
    }
   ],
   "source": [
    "for Occupation in complete.occupation.dropna().unique():\n",
    "    for Workclass in complete.workclass.dropna().unique():\n",
    "        occupation = complete.loc[(complete.occupation == Occupation) & (\n",
    "            complete.workclass == Workclass)]\n",
    "        print(Occupation, \", \", Workclass, \", \", occupation.age.corr(occupation.hoursPerWeek))"
   ]
  }
 ],
 "metadata": {
  "kernelspec": {
   "display_name": "Python 3",
   "language": "python",
   "name": "python3"
  },
  "language_info": {
   "codemirror_mode": {
    "name": "ipython",
    "version": 3
   },
   "file_extension": ".py",
   "mimetype": "text/x-python",
   "name": "python",
   "nbconvert_exporter": "python",
   "pygments_lexer": "ipython3",
   "version": "3.6.0"
  }
 },
 "nbformat": 4,
 "nbformat_minor": 2
}

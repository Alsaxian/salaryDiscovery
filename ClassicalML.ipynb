{
 "cells": [
  {
   "cell_type": "markdown",
   "metadata": {},
   "source": [
    "## 1. Préparation\n",
    "On importe d'abord les librairies qu'il faut."
   ]
  },
  {
   "cell_type": "code",
   "execution_count": 1,
   "metadata": {
    "scrolled": true
   },
   "outputs": [
    {
     "name": "stderr",
     "output_type": "stream",
     "text": [
      "/home/ubuntu/anaconda3/lib/python3.6/site-packages/matplotlib/__init__.py:1085: UserWarning: Duplicate key in file \"/home/ubuntu/.config/matplotlib/matplotlibrc\", line #2\n",
      "  (fname, cnt))\n",
      "/home/ubuntu/anaconda3/lib/python3.6/site-packages/matplotlib/__init__.py:1085: UserWarning: Duplicate key in file \"/home/ubuntu/.config/matplotlib/matplotlibrc\", line #3\n",
      "  (fname, cnt))\n",
      "/home/ubuntu/anaconda3/lib/python3.6/site-packages/h5py/__init__.py:34: FutureWarning: Conversion of the second argument of issubdtype from `float` to `np.floating` is deprecated. In future, it will be treated as `np.float64 == np.dtype(float).type`.\n",
      "  from ._conv import register_converters as _register_converters\n",
      "Using TensorFlow backend.\n"
     ]
    }
   ],
   "source": [
    "import pandas as pd\n",
    "import numpy as np\n",
    "import matplotlib.pyplot as plt\n",
    "%matplotlib inline\n",
    "\n",
    "import dill as pickle\n",
    "\n",
    "from keras.datasets import mnist\n",
    "from keras.models import Model\n",
    "from keras.layers import Dense, Input\n",
    "from keras import regularizers\n",
    "\n",
    "from sklearn.manifold import TSNE\n",
    "\n",
    "\n",
    "from time import time"
   ]
  },
  {
   "cell_type": "code",
   "execution_count": 4,
   "metadata": {},
   "outputs": [],
   "source": [
    "from scipy.stats import randint as sp_randint\n",
    "\n",
    "from sklearn.model_selection import GridSearchCV\n",
    "from sklearn.model_selection import RandomizedSearchCV\n",
    "from sklearn.ensemble import RandomForestClassifier\n",
    "\n",
    "# Utility function to report best scores\n",
    "def report(results, n_top=3):\n",
    "    for i in range(1, n_top + 1):\n",
    "        candidates = np.flatnonzero(results['rank_test_score'] == i)\n",
    "        for candidate in candidates:\n",
    "            print(\"Model with rank: {0}\".format(i))\n",
    "            print(\"Mean validation score: {0:.3f} (std: {1:.3f})\".format(\n",
    "                  results['mean_test_score'][candidate],\n",
    "                  results['std_test_score'][candidate]))\n",
    "            print(\"Parameters: {0}\".format(results['params'][candidate]))\n",
    "            print(\"\")"
   ]
  },
  {
   "cell_type": "markdown",
   "metadata": {},
   "source": [
    "Et le jeu de données pré-traité, avec les variables catégoriques en représentation one-hot."
   ]
  },
  {
   "cell_type": "code",
   "execution_count": 2,
   "metadata": {},
   "outputs": [
    {
     "data": {
      "text/html": [
       "<div>\n",
       "<style scoped>\n",
       "    .dataframe tbody tr th:only-of-type {\n",
       "        vertical-align: middle;\n",
       "    }\n",
       "\n",
       "    .dataframe tbody tr th {\n",
       "        vertical-align: top;\n",
       "    }\n",
       "\n",
       "    .dataframe thead th {\n",
       "        text-align: right;\n",
       "    }\n",
       "</style>\n",
       "<table border=\"1\" class=\"dataframe\">\n",
       "  <thead>\n",
       "    <tr style=\"text-align: right;\">\n",
       "      <th></th>\n",
       "      <th>age</th>\n",
       "      <th>capitalGain</th>\n",
       "      <th>capitalLoss</th>\n",
       "      <th>hoursPerWeek</th>\n",
       "      <th>countryProvided</th>\n",
       "      <th>country_typeI</th>\n",
       "      <th>nationals</th>\n",
       "      <th>educationGeneral</th>\n",
       "      <th>workclass_Federal-gov</th>\n",
       "      <th>workclass_Local-gov</th>\n",
       "      <th>...</th>\n",
       "      <th>relationship_Not-in-family</th>\n",
       "      <th>relationship_Other-relative</th>\n",
       "      <th>relationship_Own-child</th>\n",
       "      <th>relationship_Unmarried</th>\n",
       "      <th>relationship_Wife</th>\n",
       "      <th>race_Amer-Indian-Eskimo</th>\n",
       "      <th>race_Asian-Pac-Islander</th>\n",
       "      <th>race_Black</th>\n",
       "      <th>race_Other</th>\n",
       "      <th>isFemale</th>\n",
       "    </tr>\n",
       "  </thead>\n",
       "  <tbody>\n",
       "    <tr>\n",
       "      <th>0</th>\n",
       "      <td>0.109589</td>\n",
       "      <td>0.000000</td>\n",
       "      <td>0.0</td>\n",
       "      <td>0.397959</td>\n",
       "      <td>1</td>\n",
       "      <td>1</td>\n",
       "      <td>1</td>\n",
       "      <td>0.03125</td>\n",
       "      <td>0</td>\n",
       "      <td>0</td>\n",
       "      <td>...</td>\n",
       "      <td>0</td>\n",
       "      <td>0</td>\n",
       "      <td>1</td>\n",
       "      <td>0</td>\n",
       "      <td>0</td>\n",
       "      <td>0</td>\n",
       "      <td>0</td>\n",
       "      <td>1</td>\n",
       "      <td>0</td>\n",
       "      <td>0</td>\n",
       "    </tr>\n",
       "    <tr>\n",
       "      <th>1</th>\n",
       "      <td>0.287671</td>\n",
       "      <td>0.000000</td>\n",
       "      <td>0.0</td>\n",
       "      <td>0.500000</td>\n",
       "      <td>1</td>\n",
       "      <td>1</td>\n",
       "      <td>1</td>\n",
       "      <td>0.06250</td>\n",
       "      <td>0</td>\n",
       "      <td>0</td>\n",
       "      <td>...</td>\n",
       "      <td>0</td>\n",
       "      <td>0</td>\n",
       "      <td>0</td>\n",
       "      <td>0</td>\n",
       "      <td>0</td>\n",
       "      <td>0</td>\n",
       "      <td>0</td>\n",
       "      <td>0</td>\n",
       "      <td>0</td>\n",
       "      <td>0</td>\n",
       "    </tr>\n",
       "    <tr>\n",
       "      <th>2</th>\n",
       "      <td>0.150685</td>\n",
       "      <td>0.000000</td>\n",
       "      <td>0.0</td>\n",
       "      <td>0.397959</td>\n",
       "      <td>1</td>\n",
       "      <td>1</td>\n",
       "      <td>1</td>\n",
       "      <td>0.12500</td>\n",
       "      <td>0</td>\n",
       "      <td>1</td>\n",
       "      <td>...</td>\n",
       "      <td>0</td>\n",
       "      <td>0</td>\n",
       "      <td>0</td>\n",
       "      <td>0</td>\n",
       "      <td>0</td>\n",
       "      <td>0</td>\n",
       "      <td>0</td>\n",
       "      <td>0</td>\n",
       "      <td>0</td>\n",
       "      <td>0</td>\n",
       "    </tr>\n",
       "    <tr>\n",
       "      <th>3</th>\n",
       "      <td>0.369863</td>\n",
       "      <td>0.076881</td>\n",
       "      <td>0.0</td>\n",
       "      <td>0.397959</td>\n",
       "      <td>1</td>\n",
       "      <td>1</td>\n",
       "      <td>1</td>\n",
       "      <td>0.12500</td>\n",
       "      <td>0</td>\n",
       "      <td>0</td>\n",
       "      <td>...</td>\n",
       "      <td>0</td>\n",
       "      <td>0</td>\n",
       "      <td>0</td>\n",
       "      <td>0</td>\n",
       "      <td>0</td>\n",
       "      <td>0</td>\n",
       "      <td>0</td>\n",
       "      <td>1</td>\n",
       "      <td>0</td>\n",
       "      <td>0</td>\n",
       "    </tr>\n",
       "    <tr>\n",
       "      <th>4</th>\n",
       "      <td>0.013699</td>\n",
       "      <td>0.000000</td>\n",
       "      <td>0.0</td>\n",
       "      <td>0.295918</td>\n",
       "      <td>1</td>\n",
       "      <td>1</td>\n",
       "      <td>1</td>\n",
       "      <td>0.12500</td>\n",
       "      <td>0</td>\n",
       "      <td>0</td>\n",
       "      <td>...</td>\n",
       "      <td>0</td>\n",
       "      <td>0</td>\n",
       "      <td>1</td>\n",
       "      <td>0</td>\n",
       "      <td>0</td>\n",
       "      <td>0</td>\n",
       "      <td>0</td>\n",
       "      <td>0</td>\n",
       "      <td>0</td>\n",
       "      <td>1</td>\n",
       "    </tr>\n",
       "  </tbody>\n",
       "</table>\n",
       "<p>5 rows × 48 columns</p>\n",
       "</div>"
      ],
      "text/plain": [
       "        age  capitalGain  capitalLoss  hoursPerWeek  countryProvided  \\\n",
       "0  0.109589     0.000000          0.0      0.397959                1   \n",
       "1  0.287671     0.000000          0.0      0.500000                1   \n",
       "2  0.150685     0.000000          0.0      0.397959                1   \n",
       "3  0.369863     0.076881          0.0      0.397959                1   \n",
       "4  0.013699     0.000000          0.0      0.295918                1   \n",
       "\n",
       "   country_typeI  nationals  educationGeneral  workclass_Federal-gov  \\\n",
       "0              1          1           0.03125                      0   \n",
       "1              1          1           0.06250                      0   \n",
       "2              1          1           0.12500                      0   \n",
       "3              1          1           0.12500                      0   \n",
       "4              1          1           0.12500                      0   \n",
       "\n",
       "   workclass_Local-gov    ...     relationship_Not-in-family  \\\n",
       "0                    0    ...                              0   \n",
       "1                    0    ...                              0   \n",
       "2                    1    ...                              0   \n",
       "3                    0    ...                              0   \n",
       "4                    0    ...                              0   \n",
       "\n",
       "   relationship_Other-relative  relationship_Own-child  \\\n",
       "0                            0                       1   \n",
       "1                            0                       0   \n",
       "2                            0                       0   \n",
       "3                            0                       0   \n",
       "4                            0                       1   \n",
       "\n",
       "   relationship_Unmarried  relationship_Wife  race_Amer-Indian-Eskimo  \\\n",
       "0                       0                  0                        0   \n",
       "1                       0                  0                        0   \n",
       "2                       0                  0                        0   \n",
       "3                       0                  0                        0   \n",
       "4                       0                  0                        0   \n",
       "\n",
       "   race_Asian-Pac-Islander  race_Black  race_Other  isFemale  \n",
       "0                        0           1           0         0  \n",
       "1                        0           0           0         0  \n",
       "2                        0           0           0         0  \n",
       "3                        0           1           0         0  \n",
       "4                        0           0           0         1  \n",
       "\n",
       "[5 rows x 48 columns]"
      ]
     },
     "execution_count": 2,
     "metadata": {},
     "output_type": "execute_result"
    }
   ],
   "source": [
    "complete_preprocessed = pd.read_pickle(\"preprocessed\")\n",
    "complete_preprocessed.head()"
   ]
  },
  {
   "cell_type": "markdown",
   "metadata": {},
   "source": [
    "On découpe ensuite le jeu de données en jeu d'entraînement et jeu de test, de façon aléatoire à un taux 8:2."
   ]
  },
  {
   "cell_type": "code",
   "execution_count": 12,
   "metadata": {},
   "outputs": [],
   "source": [
    "X = complete_preprocessed[complete_preprocessed.columns.difference(\n",
    "    [\"salary_<=50K\", \"salary_>50K\"])]\n",
    "\n",
    "y = complete_preprocessed[\"salary_>50K\"]\n",
    "\n",
    "import sklearn\n",
    "\n",
    "from sklearn.model_selection import train_test_split\n",
    "\n",
    "X_train, X_test, y_train, y_test = train_test_split(X, y, test_size = 0.2)"
   ]
  },
  {
   "cell_type": "markdown",
   "metadata": {},
   "source": [
    "## 2. Algorithmes classiques\n",
    "\n",
    "Maintenant on peut commmencer avec nos algorithmes. On a envie de voir d'abord deux algorithmes relativement simples à tuner : la régression logistique et la KNN.   \n",
    "\n",
    "### 2.1 Régression logistique par validation croisée\n",
    "`scikit-learn` a implémenté une classe très pratique exlusivement pour entraîner la régression logistique par validation croisée en recherche par grille, `LogisticRegressionCV`. Son avantage par rapport à `GridSearchCV`, c'est la vitesse.   \n",
    "  \n",
    "On voit dans la suite que la 1ère implémentation est 3 fois plus rapide que la deuxième."
   ]
  },
  {
   "cell_type": "code",
   "execution_count": 5,
   "metadata": {},
   "outputs": [
    {
     "name": "stderr",
     "output_type": "stream",
     "text": [
      "/home/ubuntu/anaconda3/lib/python3.6/site-packages/scipy/optimize/linesearch.py:285: LineSearchWarning: The line search algorithm did not converge\n",
      "  warn('The line search algorithm did not converge', LineSearchWarning)\n",
      "/home/ubuntu/anaconda3/lib/python3.6/site-packages/sklearn/utils/optimize.py:195: UserWarning: Line Search failed\n",
      "  warnings.warn('Line Search failed')\n"
     ]
    },
    {
     "name": "stdout",
     "output_type": "stream",
     "text": [
      "LogisticRegressionCV took 13.77 seconds and the best score is 0.85. \n"
     ]
    },
    {
     "name": "stderr",
     "output_type": "stream",
     "text": [
      "/home/ubuntu/anaconda3/lib/python3.6/site-packages/scipy/optimize/linesearch.py:285: LineSearchWarning: The line search algorithm did not converge\n",
      "  warn('The line search algorithm did not converge', LineSearchWarning)\n",
      "/home/ubuntu/anaconda3/lib/python3.6/site-packages/sklearn/utils/optimize.py:195: UserWarning: Line Search failed\n",
      "  warnings.warn('Line Search failed')\n"
     ]
    },
    {
     "name": "stdout",
     "output_type": "stream",
     "text": [
      "GridSearchCV took 39.34 seconds and the best score is 0.85. \n"
     ]
    }
   ],
   "source": [
    "from sklearn.linear_model import LogisticRegressionCV\n",
    "from sklearn.cross_validation import KFold\n",
    "from sklearn.linear_model import LogisticRegression\n",
    "from sklearn.grid_search import GridSearchCV\n",
    "\n",
    "\n",
    "# https://github.com/scikit-learn/scikit-learn/issues/6619\n",
    "fold_logi = KFold(y_train.shape[0], n_folds=5, shuffle=True, random_state=5490)\n",
    "\n",
    "logi_searchCV = LogisticRegressionCV(Cs=list(np.power(10.0, np.arange(-10, 10))), \n",
    "                                     scoring='accuracy', cv=fold_logi, \n",
    "                                     random_state=5490, max_iter=10000,\n",
    "                                     fit_intercept=True,\n",
    "                                     solver='newton-cg',\n",
    "                                     tol=1e-4)\n",
    "start = time()\n",
    "logi_searchCV.fit(X_train, y_train)\n",
    "\n",
    "print ('LogisticRegressionCV took %.2f seconds and the best score is %.2f. ' \n",
    "       % (time() - start, logi_searchCV.scores_[1].max()))\n",
    "\n",
    "    \n",
    "grid_logi = {'C': np.power(10.0, np.arange(-10, 10)), 'solver': ['newton-cg']}\n",
    "\n",
    "logi_reg = LogisticRegression(random_state=5490, max_iter=10000, tol=1e-4)\n",
    "logi_gs = GridSearchCV(logi_reg, grid_logi, scoring='accuracy', cv=fold_logi)\n",
    "start = time()\n",
    "logi_gs.fit(X, y)\n",
    "print (\"GridSearchCV took %.2f seconds and the best score is %.2f. \"\n",
    "      % (time() - start, logi_gs.best_score_))\n",
    "\n"
   ]
  },
  {
   "cell_type": "markdown",
   "metadata": {},
   "source": [
    "### 2.2 KNN et le choix de k\n",
    "La méthode KNN est l'une des plus simples à implémenter et à tuner. On voit néanmoins une forte tendance d'augmentation en temps d'exécution lorsque le nombre k monte.\n"
   ]
  },
  {
   "cell_type": "code",
   "execution_count": 12,
   "metadata": {},
   "outputs": [
    {
     "name": "stdout",
     "output_type": "stream",
     "text": [
      "KNN 1\n",
      "estimations par validation croisée 10 fold de KNN 1 :\n",
      "Taux biens classés = 0.797 +/- 0.004\n",
      "Temps d'exécution = 37.230 secondes\n",
      "\n",
      "\n",
      "KNN 3\n",
      "estimations par validation croisée 10 fold de KNN 3 :\n",
      "Taux biens classés = 0.819 +/- 0.006\n",
      "Temps d'exécution = 41.723 secondes\n",
      "\n",
      "\n"
     ]
    },
    {
     "name": "stderr",
     "output_type": "stream",
     "text": [
      "/home/ubuntu/anaconda3/lib/python3.6/site-packages/seaborn/categorical.py:462: FutureWarning: remove_na is deprecated and is a private function. Do not use.\n",
      "  box_data = remove_na(group_data)\n"
     ]
    },
    {
     "data": {
      "image/png": "[encoded data removed]",
      "text/plain": [
       "<matplotlib.figure.Figure at 0x7f5a94be6f60>"
      ]
     },
     "metadata": {},
     "output_type": "display_data"
    }
   ],
   "source": [
    "algos = { key:value for key,value in Liste.items() if key in [\"KNN 1\", \"KNN 3\"]}\n",
    "\n",
    "runClassifiers(algos, X, y, graphe = True)"
   ]
  },
  {
   "cell_type": "code",
   "execution_count": 13,
   "metadata": {
    "scrolled": false
   },
   "outputs": [
    {
     "name": "stdout",
     "output_type": "stream",
     "text": [
      "KNN 5\n",
      "estimations par validation croisée 10 fold de KNN 5 :\n",
      "Taux biens classés = 0.828 +/- 0.005\n",
      "Temps d'exécution = 39.860 secondes\n",
      "\n",
      "\n",
      "KNN 7\n",
      "estimations par validation croisée 10 fold de KNN 7 :\n",
      "Taux biens classés = 0.831 +/- 0.006\n",
      "Temps d'exécution = 51.483 secondes\n",
      "\n",
      "\n"
     ]
    },
    {
     "name": "stderr",
     "output_type": "stream",
     "text": [
      "/home/ubuntu/anaconda3/lib/python3.6/site-packages/seaborn/categorical.py:462: FutureWarning: remove_na is deprecated and is a private function. Do not use.\n",
      "  box_data = remove_na(group_data)\n"
     ]
    },
    {
     "data": {
      "image/png": "[encoded data removed]",
      "text/plain": [
       "<matplotlib.figure.Figure at 0x7f5a93c51dd8>"
      ]
     },
     "metadata": {},
     "output_type": "display_data"
    }
   ],
   "source": [
    "algos = { key:value for key,value in Liste.items() if key in [\"KNN 5\", \"KNN 7\"]}\n",
    "runClassifiers(algos, X, y, graphe = True)"
   ]
  },
  {
   "cell_type": "markdown",
   "metadata": {},
   "source": [
    "Du coup quel est le meilleur k ? On peut chercher par validation croisée. Ici, on utilise `GridSearchCV`, parce qu'on veut parcourir tous les k possibles. La meilleure valeur de k trouvée est 9 et le taux de bons classement sur le jeu de test est 85,6%."
   ]
  },
  {
   "cell_type": "code",
   "execution_count": 44,
   "metadata": {
    "scrolled": true
   },
   "outputs": [
    {
     "name": "stdout",
     "output_type": "stream",
     "text": [
      "RandomizedSearchCV took 134.33 seconds for 20 candidates parameter settings.\n",
      "Model with rank: 1\n",
      "Mean validation score: 0.832 (std: 0.002)\n",
      "Parameters: {'n_neighbors': 9}\n",
      "\n",
      "Model with rank: 2\n",
      "Mean validation score: 0.829 (std: 0.003)\n",
      "Parameters: {'n_neighbors': 7}\n",
      "\n",
      "Model with rank: 3\n",
      "Mean validation score: 0.825 (std: 0.004)\n",
      "Parameters: {'n_neighbors': 5}\n",
      "\n"
     ]
    }
   ],
   "source": [
    "knn = KNeighborsClassifier(n_jobs = -1)\n",
    "\n",
    "param_grid_KNN = {\"n_neighbors\": range(1, 10, 2)}\n",
    "\n",
    "grid_search_KNN = GridSearchCV(knn, param_grid=param_grid_KNN,\n",
    "                                    n_jobs = -1)\n",
    "\n",
    "start = time()\n",
    "grid_search_KNN.fit(X, y)\n",
    "print(\"GridSearchCV took %.2f seconds for %d candidate parameter settings.\"\n",
    "      % (time() - start, len(grid_search_RF_encoded.cv_results_['params'])))\n",
    "report(grid_search_KNN.cv_results_)"
   ]
  },
  {
   "cell_type": "code",
   "execution_count": 45,
   "metadata": {},
   "outputs": [
    {
     "data": {
      "text/plain": [
       "0.8561777049851571"
      ]
     },
     "execution_count": 45,
     "metadata": {},
     "output_type": "execute_result"
    }
   ],
   "source": [
    "grid_search_KNN.best_estimator_.score(X_test, y_test)"
   ]
  },
  {
   "cell_type": "markdown",
   "metadata": {},
   "source": [
    "## 2.3 Forêt aléatoire et RandomisedSearchCV\n",
    "Maintenant on s'intéresse à la forêt aléatoire. Etant un algorithme classique mais très robuste et efficace, il a beaucoup d'hyper-paramètres à tuner. Ici, on met l'accent sur la comparaison de deux approches de recherche de la meileure combinaison des hyper-paramètres : `GridSearchCV` et `RandomisedSearchCV`. On verra que la deuxième étant beaucoup plus efficace que la première, sa baisse en qualité de prédiction est juste négligeable. Ici, dans notre exemple concret, même mieux."
   ]
  },
  {
   "cell_type": "code",
   "execution_count": 31,
   "metadata": {},
   "outputs": [
    {
     "name": "stdout",
     "output_type": "stream",
     "text": [
      "GridSearchCV took 59.03 seconds for 108 candidate parameter settings.\n",
      "Model with rank: 1\n",
      "Mean validation score: 0.865 (std: 0.002)\n",
      "Parameters: {'bootstrap': True, 'criterion': 'gini', 'max_depth': None, 'max_features': 'log2', 'min_samples_leaf': 5, 'min_samples_split': 20, 'n_estimators': 100}\n",
      "\n",
      "Model with rank: 2\n",
      "Mean validation score: 0.865 (std: 0.002)\n",
      "Parameters: {'bootstrap': True, 'criterion': 'gini', 'max_depth': None, 'max_features': 'sqrt', 'min_samples_leaf': 5, 'min_samples_split': 20, 'n_estimators': 100}\n",
      "\n",
      "Model with rank: 2\n",
      "Mean validation score: 0.865 (std: 0.002)\n",
      "Parameters: {'bootstrap': True, 'criterion': 'gini', 'max_depth': None, 'max_features': 'sqrt', 'min_samples_leaf': 5, 'min_samples_split': 10, 'n_estimators': 200}\n",
      "\n"
     ]
    }
   ],
   "source": [
    "RF = RandomForestClassifier(n_jobs = -1)\n",
    "\n",
    "# use a full grid over all parameters\n",
    "param_grid_RF = {\"max_depth\": [None],\n",
    "              \"max_features\": [2, \"log2\", \"sqrt\"],\n",
    "              \"min_samples_split\": [20, 10, 5],\n",
    "              \"min_samples_leaf\": [20, 10, 5],\n",
    "              \"bootstrap\": [True],\n",
    "              \"criterion\": [\"gini\"],\n",
    "                        \"n_estimators\": [20, 50, 100, 200]}\n",
    "\n",
    "# run grid search\n",
    "grid_search_RF = GridSearchCV(RF, param_grid=param_grid_RF, n_jobs = -1)\n",
    "start = time()\n",
    "grid_search_RF.fit(X_train, y_train)\n",
    "\n",
    "print(\"GridSearchCV took %.2f seconds for %d candidate parameter settings.\"\n",
    "      % (time() - start, len(grid_search_RF.cv_results_['params'])))\n",
    "report(grid_search_RF.cv_results_)"
   ]
  },
  {
   "cell_type": "code",
   "execution_count": 32,
   "metadata": {},
   "outputs": [
    {
     "data": {
      "text/plain": [
       "0.8604770191421844"
      ]
     },
     "execution_count": 32,
     "metadata": {},
     "output_type": "execute_result"
    }
   ],
   "source": [
    "grid_search_RF.best_estimator_.score(X_test, y_test)"
   ]
  },
  {
   "cell_type": "code",
   "execution_count": 41,
   "metadata": {},
   "outputs": [
    {
     "name": "stdout",
     "output_type": "stream",
     "text": [
      "RandomizedSearchCV took 22.70 seconds for 20 candidates parameter settings.\n",
      "Model with rank: 1\n",
      "Mean validation score: 0.864 (std: 0.002)\n",
      "Parameters: {'bootstrap': True, 'criterion': 'gini', 'max_depth': None, 'max_features': 7, 'min_samples_leaf': 5, 'min_samples_split': 4}\n",
      "\n",
      "Model with rank: 2\n",
      "Mean validation score: 0.863 (std: 0.001)\n",
      "Parameters: {'bootstrap': True, 'criterion': 'entropy', 'max_depth': None, 'max_features': 10, 'min_samples_leaf': 6, 'min_samples_split': 7}\n",
      "\n",
      "Model with rank: 3\n",
      "Mean validation score: 0.863 (std: 0.002)\n",
      "Parameters: {'bootstrap': False, 'criterion': 'entropy', 'max_depth': None, 'max_features': 18, 'min_samples_leaf': 10, 'min_samples_split': 2}\n",
      "\n"
     ]
    }
   ],
   "source": [
    "RF2 = RandomForestClassifier(n_jobs = -1)\n",
    "\n",
    "# Specify parameters and distributions to sample from\n",
    "param_dist_RF = {\"max_depth\": [3, None],\n",
    "                 \"max_features\": sp_randint(1, 47),\n",
    "                 \"min_samples_split\": sp_randint(2, 11),\n",
    "                 \"min_samples_leaf\": sp_randint(1, 11),\n",
    "                 \"bootstrap\": [True, False],\n",
    "                 \"criterion\": [\"gini\", \"entropy\"]}\n",
    "\n",
    "\n",
    "# Randomized search\n",
    "n_iter_search = 20\n",
    "random_search_RF = RandomizedSearchCV(RF2, param_distributions=param_dist_RF,\n",
    "                                   n_iter=n_iter_search)\n",
    "\n",
    "start = time()\n",
    "random_search_RF.fit(X, y)\n",
    "print(\"RandomizedSearchCV took %.2f seconds for %d candidates\"\n",
    "      \" parameter settings.\" % ((time() - start), n_iter_search))\n",
    "report(random_search_RF.cv_results_)"
   ]
  },
  {
   "cell_type": "code",
   "execution_count": 42,
   "metadata": {},
   "outputs": [
    {
     "data": {
      "text/plain": [
       "0.8752175248234211"
      ]
     },
     "execution_count": 42,
     "metadata": {},
     "output_type": "execute_result"
    }
   ],
   "source": [
    "random_search_RF.best_estimator_.score(X_test, y_test)"
   ]
  },
  {
   "cell_type": "markdown",
   "metadata": {},
   "source": [
    "### 2.4 SVM et l'utilité de la recherche des meilleurs hyper-paramètres par RandomisedSearchCV\n",
    "On aimerait maintenant voir la méthode SVM avec et sans l'approche `RandomisedSearchCV`, tout en sachant que la classe `svc` elle-même, appliquant par défaut la noyau gaussien, fait aussi une recherche automatique de $\\gamma$."
   ]
  },
  {
   "cell_type": "code",
   "execution_count": 27,
   "metadata": {},
   "outputs": [
    {
     "data": {
      "text/plain": [
       "0.8335551233493704"
      ]
     },
     "execution_count": 27,
     "metadata": {},
     "output_type": "execute_result"
    }
   ],
   "source": [
    "from sklearn import svm\n",
    "svm1 = svm.SVC()\n",
    "svm1.fit(X_train, y_train)\n",
    "svm1.score(X_test, y_test)"
   ]
  },
  {
   "cell_type": "code",
   "execution_count": null,
   "metadata": {},
   "outputs": [],
   "source": [
    "from sklearn import svm\n",
    "\n",
    "param_grid_svm = {\"C\": [0.5, 1, 2]}\n",
    "\n",
    "svm2 = svm.SVC()\n",
    "\n",
    "grid_search_svm = GridSearchCV(svm2, param_grid_svm)\n",
    "start = time()\n",
    "grid_search_svm.fit(X_train, y_train)\n",
    "\n",
    "print(\"GridSearchCV took %.2f seconds for %d candidate parameter settings.\"\n",
    "      % (time() - start, len(grid_search_svm.cv_results_['params'])))\n",
    "report(grid_search_svm.cv_results_)"
   ]
  },
  {
   "cell_type": "code",
   "execution_count": null,
   "metadata": {},
   "outputs": [],
   "source": [
    "import scipy\n",
    "\n",
    "from sklearn import svm\n",
    "SVM = svm.SVC()\n",
    "\n",
    "\n",
    "param_dist_SVM = {\"C\": scipy.stats.expon(scale=10), \n",
    "                  # 'gamma': scipy.stats.expon(scale=.1),\n",
    "                  'kernel': ['rbf'], \n",
    "                  'class_weight': ['balanced']}\n",
    "\n",
    "# Randomized search\n",
    "n_iter_search = 4\n",
    "random_search_SVM = RandomizedSearchCV(SVM, param_distributions=param_dist_SVM,\n",
    "                                   n_iter=n_iter_search)\n",
    "\n",
    "start = time()\n",
    "random_search_SVM.fit(X, y)\n",
    "print(\"RandomizedSearchCV took %.2f seconds for %d candidates\"\n",
    "      \" parameter settings.\" % ((time() - start), n_iter_search))\n",
    "report(random_search_SVM.cv_results_)"
   ]
  },
  {
   "cell_type": "code",
   "execution_count": 13,
   "metadata": {},
   "outputs": [
    {
     "name": "stdout",
     "output_type": "stream",
     "text": [
      "RandomizedSearchCV took 193.24 seconds for 40 candidates parameter settings.\n",
      "Model with rank: 1\n",
      "Mean validation score: 0.868 (std: 0.004)\n",
      "Parameters: {'learning_rate': 1.082549439226139, 'n_estimators': 196}\n",
      "\n",
      "Model with rank: 2\n",
      "Mean validation score: 0.867 (std: 0.002)\n",
      "Parameters: {'learning_rate': 1.7526416188941465, 'n_estimators': 140}\n",
      "\n",
      "Model with rank: 3\n",
      "Mean validation score: 0.867 (std: 0.005)\n",
      "Parameters: {'learning_rate': 1.108339728320232, 'n_estimators': 132}\n",
      "\n"
     ]
    }
   ],
   "source": [
    "import scipy\n",
    "from sklearn.tree import DecisionTreeClassifier\n",
    "from sklearn.ensemble import AdaBoostClassifier\n",
    "\n",
    "ada_discrete = AdaBoostClassifier(DecisionTreeClassifier(max_depth=1))\n",
    "\n",
    "param_dist_adaboost = {\"n_estimators\": sp_randint(1, 200), \n",
    "                       \"learning_rate\": scipy.stats.expon(scale=10)\n",
    "                      }\n",
    "\n",
    "n_iter_search = 40\n",
    "\n",
    "\n",
    "random_search_adaboost = RandomizedSearchCV(ada_discrete, param_distributions=param_dist_adaboost,\n",
    "                                   n_iter=n_iter_search)\n",
    "\n",
    "start = time()\n",
    "random_search_adaboost.fit(X_train, y_train)\n",
    "print(\"RandomizedSearchCV took %.2f seconds for %d candidates\"\n",
    "      \" parameter settings.\" % ((time() - start), n_iter_search))\n",
    "report(random_search_adaboost.cv_results_)"
   ]
  },
  {
   "cell_type": "code",
   "execution_count": 14,
   "metadata": {},
   "outputs": [
    {
     "data": {
      "text/plain": [
       "0.8693827413245983"
      ]
     },
     "execution_count": 14,
     "metadata": {},
     "output_type": "execute_result"
    }
   ],
   "source": [
    "random_search_adaboost.best_estimator_.score(X_test, y_test)"
   ]
  },
  {
   "cell_type": "markdown",
   "metadata": {},
   "source": [
    "## 3. Prédiction par méthode supervisée précédée d'une réduction de dimensions\n",
    "Ce jeu de données a 46 variables indépendantes. On veut savoir, si une réduction de dimension précédant la méthode de prédiction (ici, forêt aléatoire) peut améliorer la prédiction. Pour la méthode de réduction, on utilise l'auto-encodeur qui réduit les 48 dimensions à 4. Conclusion : par rapport à la forêt aléatoire qu'on a utilisée avant, la réduction de dimension a même baissé le taux de bons classements. Une rasion c'est que la forêt aléatoire est un algo assez robuste à la haute-dimension."
   ]
  },
  {
   "cell_type": "code",
   "execution_count": 13,
   "metadata": {},
   "outputs": [
    {
     "name": "stderr",
     "output_type": "stream",
     "text": [
      "/home/ubuntu/anaconda3/lib/python3.6/site-packages/ipykernel_launcher.py:7: UserWarning: The `nb_epoch` argument in `fit` has been renamed `epochs`.\n",
      "  import sys\n"
     ]
    },
    {
     "name": "stdout",
     "output_type": "stream",
     "text": [
      "Epoch 1/20\n",
      "48842/48842 [==============================] - 3s 70us/step - loss: 0.0533\n",
      "Epoch 2/20\n",
      "48842/48842 [==============================] - 3s 66us/step - loss: 0.0328\n",
      "Epoch 3/20\n",
      "48842/48842 [==============================] - 3s 67us/step - loss: 0.0284\n",
      "Epoch 4/20\n",
      "48842/48842 [==============================] - 3s 67us/step - loss: 0.0271\n",
      "Epoch 5/20\n",
      "48842/48842 [==============================] - 3s 68us/step - loss: 0.0266\n",
      "Epoch 6/20\n",
      "48842/48842 [==============================] - 3s 67us/step - loss: 0.0261\n",
      "Epoch 7/20\n",
      "48842/48842 [==============================] - 3s 67us/step - loss: 0.0256\n",
      "Epoch 8/20\n",
      "48842/48842 [==============================] - 3s 66us/step - loss: 0.0252\n",
      "Epoch 9/20\n",
      "48842/48842 [==============================] - 3s 67us/step - loss: 0.0250\n",
      "Epoch 10/20\n",
      "48842/48842 [==============================] - 3s 66us/step - loss: 0.0250\n",
      "Epoch 11/20\n",
      "48842/48842 [==============================] - 3s 67us/step - loss: 0.0249\n",
      "Epoch 12/20\n",
      "48842/48842 [==============================] - 3s 66us/step - loss: 0.0248\n",
      "Epoch 13/20\n",
      "48842/48842 [==============================] - 3s 67us/step - loss: 0.0248\n",
      "Epoch 14/20\n",
      "48842/48842 [==============================] - 3s 67us/step - loss: 0.0248\n",
      "Epoch 15/20\n",
      "48842/48842 [==============================] - 3s 66us/step - loss: 0.0248\n",
      "Epoch 16/20\n",
      "48842/48842 [==============================] - 3s 66us/step - loss: 0.0247\n",
      "Epoch 17/20\n",
      "48842/48842 [==============================] - 3s 67us/step - loss: 0.0247\n",
      "Epoch 18/20\n",
      "48842/48842 [==============================] - 3s 66us/step - loss: 0.0247\n",
      "Epoch 19/20\n",
      "48842/48842 [==============================] - 3s 66us/step - loss: 0.0247\n",
      "Epoch 20/20\n",
      "48842/48842 [==============================] - 3s 67us/step - loss: 0.0247\n"
     ]
    },
    {
     "data": {
      "text/plain": [
       "<keras.callbacks.History at 0x7fbe9e515ef0>"
      ]
     },
     "execution_count": 13,
     "metadata": {},
     "output_type": "execute_result"
    }
   ],
   "source": [
    "# compile autoencoder\n",
    "autoencoder.compile(optimizer='adam', loss='mse')\n",
    "\n",
    "autoencoder.fit(X, X,\n",
    "                nb_epoch=20,\n",
    "                batch_size=20,\n",
    "                shuffle=True)"
   ]
  },
  {
   "cell_type": "code",
   "execution_count": 16,
   "metadata": {},
   "outputs": [
    {
     "data": {
      "text/plain": [
       "(48842, 4)"
      ]
     },
     "execution_count": 16,
     "metadata": {},
     "output_type": "execute_result"
    }
   ],
   "source": [
    "X_encoded = encoder.predict(X, batch_size = 20)\n",
    "X_encoded.shape"
   ]
  },
  {
   "cell_type": "code",
   "execution_count": 17,
   "metadata": {
    "collapsed": true
   },
   "outputs": [],
   "source": [
    "X_encoded_train, X_encoded_test, y_encoder_train, y_encoder_test = train_test_split(X_encoded, y, test_size = 0.2)"
   ]
  },
  {
   "cell_type": "code",
   "execution_count": 8,
   "metadata": {
    "scrolled": false
   },
   "outputs": [
    {
     "ename": "NameError",
     "evalue": "name 'X_encoded_train' is not defined",
     "output_type": "error",
     "traceback": [
      "\u001b[0;31m---------------------------------------------------------------------------\u001b[0m",
      "\u001b[0;31mNameError\u001b[0m                                 Traceback (most recent call last)",
      "\u001b[0;32m<ipython-input-8-5fafe5e3b376>\u001b[0m in \u001b[0;36m<module>\u001b[0;34m()\u001b[0m\n\u001b[1;32m     26\u001b[0m \u001b[0mgrid_search_RF_encoded\u001b[0m \u001b[0;34m=\u001b[0m \u001b[0mGridSearchCV\u001b[0m\u001b[0;34m(\u001b[0m\u001b[0mRF_encoded\u001b[0m\u001b[0;34m,\u001b[0m \u001b[0mparam_grid\u001b[0m\u001b[0;34m=\u001b[0m\u001b[0mparam_grid_RF_encoded\u001b[0m\u001b[0;34m,\u001b[0m \u001b[0mn_jobs\u001b[0m \u001b[0;34m=\u001b[0m \u001b[0;34m-\u001b[0m\u001b[0;36m1\u001b[0m\u001b[0;34m)\u001b[0m\u001b[0;34m\u001b[0m\u001b[0m\n\u001b[1;32m     27\u001b[0m \u001b[0mstart\u001b[0m \u001b[0;34m=\u001b[0m \u001b[0mtime\u001b[0m\u001b[0;34m(\u001b[0m\u001b[0;34m)\u001b[0m\u001b[0;34m\u001b[0m\u001b[0m\n\u001b[0;32m---> 28\u001b[0;31m \u001b[0mgrid_search_RF_encoded\u001b[0m\u001b[0;34m.\u001b[0m\u001b[0mfit\u001b[0m\u001b[0;34m(\u001b[0m\u001b[0mX_encoded_train\u001b[0m\u001b[0;34m,\u001b[0m \u001b[0my_encoder_train\u001b[0m\u001b[0;34m)\u001b[0m\u001b[0;34m\u001b[0m\u001b[0m\n\u001b[0m\u001b[1;32m     29\u001b[0m \u001b[0;34m\u001b[0m\u001b[0m\n\u001b[1;32m     30\u001b[0m print(\"GridSearchCV took %.2f seconds for %d candidate parameter settings.\"\n",
      "\u001b[0;31mNameError\u001b[0m: name 'X_encoded_train' is not defined"
     ]
    }
   ],
   "source": [
    "# build a classifier\n",
    "RF_encoded = RandomForestClassifier(n_estimators=20, n_jobs = -1)\n",
    "\n",
    "\n",
    "# use a full grid over all parameters\n",
    "param_grid_RF_encoded = {\"max_depth\": [None],\n",
    "              \"max_features\": [1, 2],\n",
    "              \"min_samples_split\": [10, 20],\n",
    "              \"min_samples_leaf\": [10, 20],\n",
    "              \"bootstrap\": [True],\n",
    "              \"criterion\": [\"entropy\"]}\n",
    "\n",
    "# run grid search\n",
    "grid_search_RF_encoded = GridSearchCV(RF_encoded, param_grid=param_grid_RF_encoded, n_jobs = -1)\n",
    "start = time()\n",
    "grid_search_RF_encoded.fit(X_encoded_train, y_encoder_train)\n",
    "\n",
    "print(\"GridSearchCV took %.2f seconds for %d candidate parameter settings.\"\n",
    "      % (time() - start, len(grid_search_RF_encoded.cv_results_['params'])))\n",
    "report(grid_search_RF_encoded.cv_results_)"
   ]
  },
  {
   "cell_type": "code",
   "execution_count": 35,
   "metadata": {},
   "outputs": [
    {
     "data": {
      "text/plain": [
       "0.8343740403316614"
      ]
     },
     "execution_count": 35,
     "metadata": {},
     "output_type": "execute_result"
    }
   ],
   "source": [
    "grid_search_RF_encoded.best_estimator_.score(X_encoded_test, y_encoder_test)"
   ]
  },
  {
   "cell_type": "markdown",
   "metadata": {},
   "source": [
    "## 4. Un petit résumé : comparaison des algos de base"
   ]
  },
  {
   "cell_type": "code",
   "execution_count": 11,
   "metadata": {},
   "outputs": [],
   "source": [
    "from sklearn.model_selection import cross_val_score, KFold\n",
    "from sklearn.metrics import roc_auc_score, average_precision_score\n",
    "import time\n",
    "%matplotlib inline\n",
    "from matplotlib.ticker import FuncFormatter\n",
    "import seaborn as sns\n",
    "\n",
    "def tracePerformancesPercentage(dictionnaire): \n",
    "    pass\n",
    "    \n",
    "def runClassifiers(clfs, X, Y, graphe = True) :\n",
    "    kf = KFold(n_splits=10, shuffle=True, random_state=0)\n",
    "    kf2 = KFold(n_splits=5, shuffle=True, random_state=0)\n",
    "    \n",
    "    \n",
    "    cv_acc = {}\n",
    "    cv_auc = {}\n",
    "    cv_prec = {}\n",
    "    cv_prec5 = {}\n",
    "    t0 = {}\n",
    "    t1 = {}\n",
    "    \n",
    "    for i in clfs: # Ça c'est la clé.\n",
    "        print(i)\n",
    "        t0[i] = time.time()\n",
    "        clf = clfs[i] #clf correspond au ième algorithme dans le dictionnaire clfs.\n",
    "        # Ça, c'est la valeur.\n",
    "        cv_acc[i] = cross_val_score(clf, X, Y, cv=kf, scoring = 'accuracy' )                       #\n",
    "        # cv_auc[i] = cross_val_score(clf, X, Y, cv=kf, scoring='roc_auc')     # voir http://scikit-learn.org/stable/modules/model_evaluation.html\n",
    "        # cv_prec[i] = cross_val_score(clf, X, Y, cv=kf, scoring='precision')  #\n",
    "        # cv_prec5[i] = cross_val_score(clf, X, Y, cv=kf2, scoring='precision')#\n",
    "        t1[i] = time.time()\n",
    "        print(\"estimations par validation croisée 10 fold de {0} :\".format(i))\n",
    "        print(\"Taux biens classés = {0:.3f} +/- {1:.3f}\".format(np.mean(cv_acc[i]), np.std(cv_acc[i])))\n",
    "        # print(\"AUC = {0:.3f} +/- {1:.3f}\".format(np.mean(cv_auc[i]), np.std(cv_auc[i])))\n",
    "        # print(\"Précision = {0:.3f} +/- {1:.3f}\".format(np.mean(cv_prec[i]), np.std(cv_prec[i])))\n",
    "        # print(\"Précision (5 fold) = {0:.3f} +/- {1:.3f}\".format(np.mean(cv_prec5[i]), np.std(cv_prec5[i])))\n",
    "        print(\"Temps d'exécution = {0:.3f} secondes\".format(t1[i] - t0[i]))\n",
    "        print('\\n')\n",
    "\n",
    "    if graphe:\n",
    "        cv_acc_df = pd.DataFrame.from_dict(cv_acc)\n",
    "        # cv_prec_df = pd.DataFrame.from_dict(cv_prec)\n",
    "        # cv_prec5_df = pd.DataFrame.from_dict(cv_prec5)\n",
    "\n",
    "        plt.figure(figsize=(30, 8))\n",
    "#         ax1 = plt.subplot(121)\n",
    "#         ax1 = sns.boxplot(data = cv_prec_df, palette=\"Set3\", orient = \"h\")\n",
    "#         ax1.tick_params(labelsize = 25, colors='darkblue')\n",
    "#         ax1.set_title(\"Précision par validation croisée 10-folds\", fontsize = 30)\n",
    "#         ax2 = plt.subplot(122)\n",
    "#         ax2 = sns.boxplot(data = cv_prec5_df, palette=\"Set3\", orient = \"h\")\n",
    "#         ax2.set_yticklabels([])\n",
    "#         ax2.tick_params(labelsize = 25, colors='darkblue')\n",
    "#         ax2.set_title(\"Précision par validation croisée 5-folds\", fontsize = 30)\n",
    "        sns.boxplot(data = cv_acc_df, palette=\"Set3\", orient = \"h\")\n",
    "        \n",
    "        plt.show()\n"
   ]
  },
  {
   "cell_type": "code",
   "execution_count": 12,
   "metadata": {},
   "outputs": [
    {
     "name": "stderr",
     "output_type": "stream",
     "text": [
      "/home/ubuntu/anaconda3/lib/python3.6/site-packages/ipykernel_launcher.py:19: UserWarning: Update your `Model` call to the Keras 2 API: `Model(inputs=Tensor(\"in..., outputs=Tensor(\"de...)`\n",
      "/home/ubuntu/anaconda3/lib/python3.6/site-packages/ipykernel_launcher.py:22: UserWarning: Update your `Model` call to the Keras 2 API: `Model(inputs=Tensor(\"in..., outputs=Tensor(\"de...)`\n"
     ]
    }
   ],
   "source": [
    "\n",
    "\n",
    "\n",
    "# in order to reduct to 4 dimensions\n",
    "encoding_dim = 4\n",
    "\n",
    "# this is our input placeholder\n",
    "input_var = Input(shape=(46, ))\n",
    "\n",
    "# encoder layers\n",
    "encoded = Dense(10, activation='relu')(input_var)\n",
    "encoder_output = Dense(encoding_dim)(encoded)\n",
    "\n",
    "# decoder layers\n",
    "decoded = Dense(10, activation='relu')(encoder_output)\n",
    "decoded = Dense(46, activation='tanh')(decoded)\n",
    "\n",
    "# construct the autoencoder model\n",
    "autoencoder = Model(input=input_var, output=decoded)\n",
    "\n",
    "# construct the encoder model for plotting\n",
    "encoder = Model(input=input_var, output=encoder_output)\n",
    "\n",
    "\n"
   ]
  },
  {
   "cell_type": "code",
   "execution_count": 11,
   "metadata": {
    "scrolled": false
   },
   "outputs": [
    {
     "name": "stdout",
     "output_type": "stream",
     "text": [
      "estimations par validation croisée 10 fold de Naive_Bayes_Gaussien :\n",
      "Taux biens classés = 0.672 +/- 0.009\n",
      "AUC = 0.870 +/- 0.010\n",
      "Précision = 0.416 +/- 0.012\n",
      "Précision (5 fold) = 0.416 +/- 0.011\n",
      "Temps d'exécution = 1.730 secondes\n",
      "\n",
      "\n",
      "estimations par validation croisée 10 fold de CART :\n",
      "Taux biens classés = 0.822 +/- 0.005\n",
      "AUC = 0.777 +/- 0.006\n",
      "Précision = 0.633 +/- 0.015\n",
      "Précision (5 fold) = 0.633 +/- 0.007\n",
      "Temps d'exécution = 9.012 secondes\n",
      "\n",
      "\n",
      "estimations par validation croisée 10 fold de Decision Stump :\n",
      "Taux biens classés = 0.803 +/- 0.005\n",
      "AUC = 0.593 +/- 0.009\n",
      "Précision = 0.946 +/- 0.009\n",
      "Précision (5 fold) = 0.947 +/- 0.003\n",
      "Temps d'exécution = 1.101 secondes\n",
      "\n",
      "\n",
      "estimations par validation croisée 10 fold de Reseau Neuronal 1 couche cachée :\n",
      "Taux biens classés = 0.856 +/- 0.005\n",
      "AUC = 0.910 +/- 0.005\n",
      "Précision = 0.738 +/- 0.017\n",
      "Précision (5 fold) = 0.737 +/- 0.011\n",
      "Temps d'exécution = 303.992 secondes\n",
      "\n",
      "\n",
      "estimations par validation croisée 10 fold de Reseau_Neuronal 2 couches cachées :\n",
      "Taux biens classés = 0.854 +/- 0.005\n",
      "AUC = 0.909 +/- 0.005\n",
      "Précision = 0.733 +/- 0.015\n",
      "Précision (5 fold) = 0.732 +/- 0.009\n",
      "Temps d'exécution = 365.255 secondes\n",
      "\n",
      "\n",
      "estimations par validation croisée 10 fold de Bagging :\n",
      "Taux biens classés = 0.845 +/- 0.005\n",
      "AUC = 0.874 +/- 0.005\n",
      "Précision = 0.703 +/- 0.011\n",
      "Précision (5 fold) = 0.698 +/- 0.006\n",
      "Temps d'exécution = 56.555 secondes\n",
      "\n",
      "\n",
      "estimations par validation croisée 10 fold de AdaBoost 10 :\n",
      "Taux biens classés = 0.836 +/- 0.006\n",
      "AUC = 0.862 +/- 0.007\n",
      "Précision = 0.731 +/- 0.015\n",
      "Précision (5 fold) = 0.744 +/- 0.006\n",
      "Temps d'exécution = 7.877 secondes\n",
      "\n",
      "\n",
      "estimations par validation croisée 10 fold de AdaBoost 50 :\n",
      "Taux biens classés = 0.852 +/- 0.005\n",
      "AUC = 0.902 +/- 0.004\n",
      "Précision = 0.765 +/- 0.012\n",
      "Précision (5 fold) = 0.773 +/- 0.009\n",
      "Temps d'exécution = 37.408 secondes\n",
      "\n",
      "\n",
      "estimations par validation croisée 10 fold de KNN 4 :\n",
      "Taux biens classés = 0.825 +/- 0.004\n",
      "AUC = 0.832 +/- 0.006\n",
      "Précision = 0.708 +/- 0.015\n",
      "Précision (5 fold) = 0.710 +/- 0.011\n",
      "Temps d'exécution = 307.359 secondes\n",
      "\n",
      "\n",
      "estimations par validation croisée 10 fold de KNN 10 :\n",
      "Taux biens classés = 0.834 +/- 0.005\n",
      "AUC = 0.868 +/- 0.007\n",
      "Précision = 0.713 +/- 0.013\n",
      "Précision (5 fold) = 0.713 +/- 0.012\n",
      "Temps d'exécution = 374.559 secondes\n",
      "\n",
      "\n",
      "estimations par validation croisée 10 fold de Forêt_Aléatoire 15 arbres :\n",
      "Taux biens classés = 0.844 +/- 0.005\n",
      "AUC = 0.879 +/- 0.004\n",
      "Précision = 0.699 +/- 0.014\n",
      "Précision (5 fold) = 0.696 +/- 0.005\n",
      "Temps d'exécution = 21.654 secondes\n",
      "\n",
      "\n",
      "estimations par validation croisée 10 fold de Forêt_Aléatoire 50 arbres :\n",
      "Taux biens classés = 0.848 +/- 0.006\n",
      "AUC = 0.889 +/- 0.005\n",
      "Précision = 0.708 +/- 0.014\n",
      "Précision (5 fold) = 0.708 +/- 0.010\n",
      "Temps d'exécution = 70.423 secondes\n",
      "\n",
      "\n"
     ]
    },
    {
     "name": "stderr",
     "output_type": "stream",
     "text": [
      "/home/ubuntu/anaconda3/lib/python3.6/site-packages/seaborn/categorical.py:462: FutureWarning: remove_na is deprecated and is a private function. Do not use.\n",
      "  box_data = remove_na(group_data)\n"
     ]
    },
    {
     "data": {
      "image/png": "[encoded data removed]",
      "text/plain": [
       "<matplotlib.figure.Figure at 0x7fefe09df860>"
      ]
     },
     "metadata": {},
     "output_type": "display_data"
    }
   ],
   "source": [
    "runClassifiers(Liste, X, y, graphe = True)"
   ]
  },
  {
   "cell_type": "markdown",
   "metadata": {},
   "source": [
    "We try to save all the models:"
   ]
  },
  {
   "cell_type": "code",
   "execution_count": 9,
   "metadata": {},
   "outputs": [],
   "source": [
    "import dill as pickle\n",
    "\n",
    "filename = \"classicalModels\"\n",
    "pickle.dump(Liste, open(filename, \"wb\"))"
   ]
  },
  {
   "cell_type": "code",
   "execution_count": null,
   "metadata": {
    "collapsed": true
   },
   "outputs": [],
   "source": []
  },
  {
   "cell_type": "code",
   "execution_count": 8,
   "metadata": {},
   "outputs": [],
   "source": [
    "from sklearn.tree import DecisionTreeClassifier\n",
    "from sklearn.naive_bayes import GaussianNB\n",
    "from sklearn.neural_network import MLPClassifier\n",
    "from sklearn.ensemble import BaggingClassifier, AdaBoostClassifier, RandomForestClassifier\n",
    "from sklearn.neighbors import KNeighborsClassifier\n",
    "# from id3 import Id3Estimator\n",
    "\n",
    "Liste = {\n",
    "'Naive_Bayes_Gaussien': GaussianNB(),  # Naive Bayes classifier http://scikit-learn.org/stable/modules/naive_bayes.html\n",
    "'CART': DecisionTreeClassifier(), # Classification And Regression Tree (CART) http://scikit-learn.org/stable/modules/tree.html\n",
    "#'ID3' : id3.Id3Estimator(gain_ratio= True, prune = True),    # Iterative dichotomizer 3 (ID3) https://pypi.python.org/pypi/decision-tree-id3/0.1.2\n",
    "'Decision Stump' : DecisionTreeClassifier(max_depth=1), # Decision Stump\n",
    "'Reseau Neuronal 1 couche cachée': MLPClassifier(solver='lbfgs', alpha=1e-5, hidden_layer_sizes=(20), random_state=1),\n",
    "'Reseau_Neuronal 2 couches cachées': MLPClassifier(solver='lbfgs', alpha=1e-5, hidden_layer_sizes=(20, 5), random_state=1), # Réseau de neurones à 2 couches cachées http://scikit-learn.org/stable/modules/neural_networks_supervised.html\n",
    "'Bagging': BaggingClassifier(base_estimator=None, n_estimators=10, max_samples=1.0, max_features=1.0, bootstrap=True, bootstrap_features=False, oob_score=False, warm_start=False, n_jobs=-1, random_state=None, verbose=0), # Bootstrap Aggregation http://scikit-learn.org/stable/modules/generated/sklearn.ensemble.BaggingClassifier.html\n",
    "'AdaBoost 10': AdaBoostClassifier(DecisionTreeClassifier(max_depth=1), algorithm=\"SAMME\", n_estimators=10),\n",
    "'AdaBoost 50': AdaBoostClassifier(DecisionTreeClassifier(max_depth=1), algorithm=\"SAMME\", n_estimators=50), # Adaboost http://scikit-learn.org/stable/auto_examples/ensemble/plot_adaboost_twoclass.html\n",
    "'KNN 1': KNeighborsClassifier(n_neighbors=1, n_jobs = -1),\n",
    "'KNN 3': KNeighborsClassifier(n_neighbors=3, n_jobs = -1), # K-plus proches voisins http://scikit-learn.org/stable/modules/generated/sklearn.neighbors.KNeighborsClassifier.html\n",
    "'KNN 5': KNeighborsClassifier(n_neighbors=5, n_jobs = -1),\n",
    "'KNN 7': KNeighborsClassifier(n_neighbors=7, n_jobs = -1),\n",
    "'Forêt_Aléatoire 15 arbres': RandomForestClassifier(n_estimators=15, n_jobs=-1),\n",
    "'Forêt_Aléatoire 50 arbres': RandomForestClassifier(n_estimators=50, n_jobs=-1)   # Foret aléatoire http://scikit-learn.org/stable/modules/ensemble.html\n",
    "}"
   ]
  }
 ],
 "metadata": {
  "kernelspec": {
   "display_name": "Python 3",
   "language": "python",
   "name": "python3"
  },
  "language_info": {
   "codemirror_mode": {
    "name": "ipython",
    "version": 3
   },
   "file_extension": ".py",
   "mimetype": "text/x-python",
   "name": "python",
   "nbconvert_exporter": "python",
   "pygments_lexer": "ipython3",
   "version": "3.6.2"
  }
 },
 "nbformat": 4,
 "nbformat_minor": 2
}

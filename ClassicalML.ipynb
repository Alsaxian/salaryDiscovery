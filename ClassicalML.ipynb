{
 "cells": [
  {
   "cell_type": "code",
   "execution_count": 1,
   "metadata": {},
   "outputs": [
    {
     "name": "stderr",
     "output_type": "stream",
     "text": [
      "/home/ubuntu/anaconda3/lib/python3.6/site-packages/matplotlib/__init__.py:1085: UserWarning: Duplicate key in file \"/home/ubuntu/.config/matplotlib/matplotlibrc\", line #2\n",
      "  (fname, cnt))\n",
      "/home/ubuntu/anaconda3/lib/python3.6/site-packages/matplotlib/__init__.py:1085: UserWarning: Duplicate key in file \"/home/ubuntu/.config/matplotlib/matplotlibrc\", line #3\n",
      "  (fname, cnt))\n",
      "/home/ubuntu/anaconda3/lib/python3.6/site-packages/h5py/__init__.py:34: FutureWarning: Conversion of the second argument of issubdtype from `float` to `np.floating` is deprecated. In future, it will be treated as `np.float64 == np.dtype(float).type`.\n",
      "  from ._conv import register_converters as _register_converters\n",
      "Using TensorFlow backend.\n"
     ]
    }
   ],
   "source": [
    "import pandas as pd\n",
    "import numpy as np\n",
    "import matplotlib.pyplot as plt\n",
    "%matplotlib inline\n",
    "\n",
    "import dill as pickle\n",
    "\n",
    "from keras.datasets import mnist\n",
    "from keras.models import Model\n",
    "from keras.layers import Dense, Input\n",
    "from keras import regularizers\n",
    "\n",
    "from sklearn.manifold import TSNE\n",
    "\n",
    "\n",
    "from time import time"
   ]
  },
  {
   "cell_type": "code",
   "execution_count": 2,
   "metadata": {},
   "outputs": [
    {
     "data": {
      "text/plain": [
       "array(['age', 'capitalGain', 'capitalLoss', 'hoursPerWeek',\n",
       "       'countryProvided', 'country_typeI', 'nationals',\n",
       "       'educationGeneral', 'workclass_Federal-gov', 'workclass_Local-gov',\n",
       "       'workclass_Never-worked', 'workclass_Private',\n",
       "       'workclass_Self-emp-inc', 'workclass_Self-emp-not-inc',\n",
       "       'workclass_State-gov', 'workclass_Without-pay',\n",
       "       'occupation_Adm-clerical', 'occupation_Armed-Forces',\n",
       "       'occupation_Craft-repair', 'occupation_Exec-managerial',\n",
       "       'occupation_Farming-fishing', 'occupation_Handlers-cleaners',\n",
       "       'occupation_Machine-op-inspct', 'occupation_Other-service',\n",
       "       'occupation_Priv-house-serv', 'occupation_Prof-specialty',\n",
       "       'occupation_Protective-serv', 'occupation_Sales',\n",
       "       'occupation_Tech-support', 'occupation_Transport-moving',\n",
       "       'salary_<=50K', 'salary_>50K', 'maritalStatus_Divorced',\n",
       "       'maritalStatus_Married-AF-spouse',\n",
       "       'maritalStatus_Married-spouse-absent',\n",
       "       'maritalStatus_Never-married', 'maritalStatus_Separated',\n",
       "       'maritalStatus_Widowed', 'relationship_Not-in-family',\n",
       "       'relationship_Other-relative', 'relationship_Own-child',\n",
       "       'relationship_Unmarried', 'relationship_Wife',\n",
       "       'race_Amer-Indian-Eskimo', 'race_Asian-Pac-Islander', 'race_Black',\n",
       "       'race_Other', 'isFemale'], dtype=object)"
      ]
     },
     "execution_count": 2,
     "metadata": {},
     "output_type": "execute_result"
    }
   ],
   "source": [
    "complete_preprocessed = pd.read_pickle(\"preprocessed\")\n",
    "complete_preprocessed.head()\n",
    "complete_preprocessed.columns.values"
   ]
  },
  {
   "cell_type": "code",
   "execution_count": 3,
   "metadata": {},
   "outputs": [],
   "source": [
    "X = complete_preprocessed[complete_preprocessed.columns.difference(\n",
    "    [\"salary_<=50K\", \"salary_>50K\"])]\n",
    "\n",
    "y = complete_preprocessed[\"salary_>50K\"]\n",
    "\n",
    "import sklearn\n",
    "\n",
    "from sklearn.model_selection import train_test_split\n",
    "\n",
    "X_train, X_test, y_train, y_test = train_test_split(X, y, test_size = 0.2)"
   ]
  },
  {
   "cell_type": "code",
   "execution_count": 3,
   "metadata": {},
   "outputs": [],
   "source": [
    "from sklearn.tree import DecisionTreeClassifier\n",
    "from sklearn.naive_bayes import GaussianNB\n",
    "from sklearn.neural_network import MLPClassifier\n",
    "from sklearn.ensemble import BaggingClassifier, AdaBoostClassifier, RandomForestClassifier\n",
    "from sklearn.neighbors import KNeighborsClassifier\n",
    "# from id3 import Id3Estimator\n",
    "\n",
    "Liste = {\n",
    "'Naive_Bayes_Gaussien': GaussianNB(),  # Naive Bayes classifier http://scikit-learn.org/stable/modules/naive_bayes.html\n",
    "'CART': DecisionTreeClassifier(), # Classification And Regression Tree (CART) http://scikit-learn.org/stable/modules/tree.html\n",
    "#'ID3' : id3.Id3Estimator(gain_ratio= True, prune = True),    # Iterative dichotomizer 3 (ID3) https://pypi.python.org/pypi/decision-tree-id3/0.1.2\n",
    "'Decision Stump' : DecisionTreeClassifier(max_depth=1), # Decision Stump\n",
    "'Reseau Neuronal 1 couche cachée': MLPClassifier(solver='lbfgs', alpha=1e-5, hidden_layer_sizes=(20), random_state=1),\n",
    "'Reseau_Neuronal 2 couches cachées': MLPClassifier(solver='lbfgs', alpha=1e-5, hidden_layer_sizes=(20, 5), random_state=1), # Réseau de neurones à 2 couches cachées http://scikit-learn.org/stable/modules/neural_networks_supervised.html\n",
    "'Bagging': BaggingClassifier(base_estimator=None, n_estimators=10, max_samples=1.0, max_features=1.0, bootstrap=True, bootstrap_features=False, oob_score=False, warm_start=False, n_jobs=-1, random_state=None, verbose=0), # Bootstrap Aggregation http://scikit-learn.org/stable/modules/generated/sklearn.ensemble.BaggingClassifier.html\n",
    "'AdaBoost 10': AdaBoostClassifier(DecisionTreeClassifier(max_depth=1), algorithm=\"SAMME\", n_estimators=10),\n",
    "'AdaBoost 50': AdaBoostClassifier(DecisionTreeClassifier(max_depth=1), algorithm=\"SAMME\", n_estimators=50), # Adaboost http://scikit-learn.org/stable/auto_examples/ensemble/plot_adaboost_twoclass.html\n",
    "'KNN 1': KNeighborsClassifier(n_neighbors=1, n_jobs = -1),\n",
    "'KNN 3': KNeighborsClassifier(n_neighbors=3, n_jobs = -1), # K-plus proches voisins http://scikit-learn.org/stable/modules/generated/sklearn.neighbors.KNeighborsClassifier.html\n",
    "'KNN 5': KNeighborsClassifier(n_neighbors=5, n_jobs = -1),\n",
    "'KNN 7': KNeighborsClassifier(n_neighbors=7, n_jobs = -1),\n",
    "'Forêt_Aléatoire 15 arbres': RandomForestClassifier(n_estimators=15, n_jobs=-1),\n",
    "'Forêt_Aléatoire 50 arbres': RandomForestClassifier(n_estimators=50, n_jobs=-1)   # Foret aléatoire http://scikit-learn.org/stable/modules/ensemble.html\n",
    "}"
   ]
  },
  {
   "cell_type": "code",
   "execution_count": 12,
   "metadata": {},
   "outputs": [
    {
     "name": "stderr",
     "output_type": "stream",
     "text": [
      "/home/ubuntu/anaconda3/lib/python3.6/site-packages/ipykernel_launcher.py:19: UserWarning: Update your `Model` call to the Keras 2 API: `Model(inputs=Tensor(\"in..., outputs=Tensor(\"de...)`\n",
      "/home/ubuntu/anaconda3/lib/python3.6/site-packages/ipykernel_launcher.py:22: UserWarning: Update your `Model` call to the Keras 2 API: `Model(inputs=Tensor(\"in..., outputs=Tensor(\"de...)`\n"
     ]
    }
   ],
   "source": [
    "\n",
    "\n",
    "\n",
    "# in order to reduct to 4 dimensions\n",
    "encoding_dim = 4\n",
    "\n",
    "# this is our input placeholder\n",
    "input_var = Input(shape=(46, ))\n",
    "\n",
    "# encoder layers\n",
    "encoded = Dense(10, activation='relu')(input_var)\n",
    "encoder_output = Dense(encoding_dim)(encoded)\n",
    "\n",
    "# decoder layers\n",
    "decoded = Dense(10, activation='relu')(encoder_output)\n",
    "decoded = Dense(46, activation='tanh')(decoded)\n",
    "\n",
    "# construct the autoencoder model\n",
    "autoencoder = Model(input=input_var, output=decoded)\n",
    "\n",
    "# construct the encoder model for plotting\n",
    "encoder = Model(input=input_var, output=encoder_output)\n",
    "\n",
    "\n"
   ]
  },
  {
   "cell_type": "code",
   "execution_count": null,
   "metadata": {},
   "outputs": [],
   "source": []
  },
  {
   "cell_type": "code",
   "execution_count": 13,
   "metadata": {},
   "outputs": [
    {
     "name": "stderr",
     "output_type": "stream",
     "text": [
      "/home/ubuntu/anaconda3/lib/python3.6/site-packages/ipykernel_launcher.py:7: UserWarning: The `nb_epoch` argument in `fit` has been renamed `epochs`.\n",
      "  import sys\n"
     ]
    },
    {
     "name": "stdout",
     "output_type": "stream",
     "text": [
      "Epoch 1/20\n",
      "48842/48842 [==============================] - 3s 70us/step - loss: 0.0533\n",
      "Epoch 2/20\n",
      "48842/48842 [==============================] - 3s 66us/step - loss: 0.0328\n",
      "Epoch 3/20\n",
      "48842/48842 [==============================] - 3s 67us/step - loss: 0.0284\n",
      "Epoch 4/20\n",
      "48842/48842 [==============================] - 3s 67us/step - loss: 0.0271\n",
      "Epoch 5/20\n",
      "48842/48842 [==============================] - 3s 68us/step - loss: 0.0266\n",
      "Epoch 6/20\n",
      "48842/48842 [==============================] - 3s 67us/step - loss: 0.0261\n",
      "Epoch 7/20\n",
      "48842/48842 [==============================] - 3s 67us/step - loss: 0.0256\n",
      "Epoch 8/20\n",
      "48842/48842 [==============================] - 3s 66us/step - loss: 0.0252\n",
      "Epoch 9/20\n",
      "48842/48842 [==============================] - 3s 67us/step - loss: 0.0250\n",
      "Epoch 10/20\n",
      "48842/48842 [==============================] - 3s 66us/step - loss: 0.0250\n",
      "Epoch 11/20\n",
      "48842/48842 [==============================] - 3s 67us/step - loss: 0.0249\n",
      "Epoch 12/20\n",
      "48842/48842 [==============================] - 3s 66us/step - loss: 0.0248\n",
      "Epoch 13/20\n",
      "48842/48842 [==============================] - 3s 67us/step - loss: 0.0248\n",
      "Epoch 14/20\n",
      "48842/48842 [==============================] - 3s 67us/step - loss: 0.0248\n",
      "Epoch 15/20\n",
      "48842/48842 [==============================] - 3s 66us/step - loss: 0.0248\n",
      "Epoch 16/20\n",
      "48842/48842 [==============================] - 3s 66us/step - loss: 0.0247\n",
      "Epoch 17/20\n",
      "48842/48842 [==============================] - 3s 67us/step - loss: 0.0247\n",
      "Epoch 18/20\n",
      "48842/48842 [==============================] - 3s 66us/step - loss: 0.0247\n",
      "Epoch 19/20\n",
      "48842/48842 [==============================] - 3s 66us/step - loss: 0.0247\n",
      "Epoch 20/20\n",
      "48842/48842 [==============================] - 3s 67us/step - loss: 0.0247\n"
     ]
    },
    {
     "data": {
      "text/plain": [
       "<keras.callbacks.History at 0x7fbe9e515ef0>"
      ]
     },
     "execution_count": 13,
     "metadata": {},
     "output_type": "execute_result"
    }
   ],
   "source": [
    "# compile autoencoder\n",
    "autoencoder.compile(optimizer='adam', loss='mse')\n",
    "\n",
    "autoencoder.fit(X, X,\n",
    "                nb_epoch=20,\n",
    "                batch_size=20,\n",
    "                shuffle=True)"
   ]
  },
  {
   "cell_type": "code",
   "execution_count": 16,
   "metadata": {},
   "outputs": [
    {
     "data": {
      "text/plain": [
       "(48842, 4)"
      ]
     },
     "execution_count": 16,
     "metadata": {},
     "output_type": "execute_result"
    }
   ],
   "source": [
    "X_encoded = encoder.predict(X, batch_size = 20)\n",
    "X_encoded.shape"
   ]
  },
  {
   "cell_type": "code",
   "execution_count": 17,
   "metadata": {},
   "outputs": [],
   "source": [
    "X_encoded_train, X_encoded_test, y_encoder_train, y_encoder_test = train_test_split(X_encoded, y, test_size = 0.2)"
   ]
  },
  {
   "cell_type": "code",
   "execution_count": 34,
   "metadata": {
    "scrolled": true
   },
   "outputs": [
    {
     "name": "stdout",
     "output_type": "stream",
     "text": [
      "GridSearchCV took 4.50 seconds for 8 candidate parameter settings.\n",
      "Model with rank: 1\n",
      "Mean validation score: 0.828 (std: 0.002)\n",
      "Parameters: {'bootstrap': True, 'criterion': 'entropy', 'max_depth': None, 'max_features': 2, 'min_samples_leaf': 20, 'min_samples_split': 10}\n",
      "\n",
      "Model with rank: 1\n",
      "Mean validation score: 0.828 (std: 0.002)\n",
      "Parameters: {'bootstrap': True, 'criterion': 'entropy', 'max_depth': None, 'max_features': 2, 'min_samples_leaf': 20, 'min_samples_split': 20}\n",
      "\n",
      "Model with rank: 3\n",
      "Mean validation score: 0.827 (std: 0.002)\n",
      "Parameters: {'bootstrap': True, 'criterion': 'entropy', 'max_depth': None, 'max_features': 1, 'min_samples_leaf': 20, 'min_samples_split': 10}\n",
      "\n",
      "Model with rank: 3\n",
      "Mean validation score: 0.827 (std: 0.002)\n",
      "Parameters: {'bootstrap': True, 'criterion': 'entropy', 'max_depth': None, 'max_features': 1, 'min_samples_leaf': 20, 'min_samples_split': 20}\n",
      "\n"
     ]
    }
   ],
   "source": [
    "from scipy.stats import randint as sp_randint\n",
    "\n",
    "from sklearn.model_selection import GridSearchCV\n",
    "from sklearn.model_selection import RandomizedSearchCV\n",
    "from sklearn.ensemble import RandomForestClassifier\n",
    "\n",
    "\n",
    "# build a classifier\n",
    "RF_encoded = RandomForestClassifier(n_estimators=20, n_jobs = -1)\n",
    "\n",
    "# Utility function to report best scores\n",
    "def report(results, n_top=3):\n",
    "    for i in range(1, n_top + 1):\n",
    "        candidates = np.flatnonzero(results['rank_test_score'] == i)\n",
    "        for candidate in candidates:\n",
    "            print(\"Model with rank: {0}\".format(i))\n",
    "            print(\"Mean validation score: {0:.3f} (std: {1:.3f})\".format(\n",
    "                  results['mean_test_score'][candidate],\n",
    "                  results['std_test_score'][candidate]))\n",
    "            print(\"Parameters: {0}\".format(results['params'][candidate]))\n",
    "            print(\"\")\n",
    "\n",
    "\n",
    "# use a full grid over all parameters\n",
    "param_grid_RF_encoded = {\"max_depth\": [None],\n",
    "              \"max_features\": [1, 2],\n",
    "              \"min_samples_split\": [10, 20],\n",
    "              \"min_samples_leaf\": [10, 20],\n",
    "              \"bootstrap\": [True],\n",
    "              \"criterion\": [\"entropy\"]}\n",
    "\n",
    "# run grid search\n",
    "grid_search_RF_encoded = GridSearchCV(RF_encoded, param_grid=param_grid_RF_encoded, n_jobs = -1)\n",
    "start = time()\n",
    "grid_search_RF_encoded.fit(X_encoded_train, y_encoder_train)\n",
    "\n",
    "print(\"GridSearchCV took %.2f seconds for %d candidate parameter settings.\"\n",
    "      % (time() - start, len(grid_search_RF_encoded.cv_results_['params'])))\n",
    "report(grid_search_RF_encoded.cv_results_)"
   ]
  },
  {
   "cell_type": "code",
   "execution_count": 35,
   "metadata": {},
   "outputs": [
    {
     "data": {
      "text/plain": [
       "0.8343740403316614"
      ]
     },
     "execution_count": 35,
     "metadata": {},
     "output_type": "execute_result"
    }
   ],
   "source": [
    "grid_search_RF_encoded.best_estimator_.score(X_encoded_test, y_encoder_test)"
   ]
  },
  {
   "cell_type": "code",
   "execution_count": 31,
   "metadata": {},
   "outputs": [
    {
     "name": "stdout",
     "output_type": "stream",
     "text": [
      "GridSearchCV took 59.03 seconds for 108 candidate parameter settings.\n",
      "Model with rank: 1\n",
      "Mean validation score: 0.865 (std: 0.002)\n",
      "Parameters: {'bootstrap': True, 'criterion': 'gini', 'max_depth': None, 'max_features': 'log2', 'min_samples_leaf': 5, 'min_samples_split': 20, 'n_estimators': 100}\n",
      "\n",
      "Model with rank: 2\n",
      "Mean validation score: 0.865 (std: 0.002)\n",
      "Parameters: {'bootstrap': True, 'criterion': 'gini', 'max_depth': None, 'max_features': 'sqrt', 'min_samples_leaf': 5, 'min_samples_split': 20, 'n_estimators': 100}\n",
      "\n",
      "Model with rank: 2\n",
      "Mean validation score: 0.865 (std: 0.002)\n",
      "Parameters: {'bootstrap': True, 'criterion': 'gini', 'max_depth': None, 'max_features': 'sqrt', 'min_samples_leaf': 5, 'min_samples_split': 10, 'n_estimators': 200}\n",
      "\n"
     ]
    }
   ],
   "source": [
    "RF = RandomForestClassifier(n_jobs = -1)\n",
    "\n",
    "# use a full grid over all parameters\n",
    "param_grid_RF = {\"max_depth\": [None],\n",
    "              \"max_features\": [2, \"log2\", \"sqrt\"],\n",
    "              \"min_samples_split\": [20, 10, 5],\n",
    "              \"min_samples_leaf\": [20, 10, 5],\n",
    "              \"bootstrap\": [True],\n",
    "              \"criterion\": [\"gini\"],\n",
    "                        \"n_estimators\": [20, 50, 100, 200]}\n",
    "\n",
    "# run grid search\n",
    "grid_search_RF = GridSearchCV(RF, param_grid=param_grid_RF, n_jobs = -1)\n",
    "start = time()\n",
    "grid_search_RF.fit(X_train, y_train)\n",
    "\n",
    "print(\"GridSearchCV took %.2f seconds for %d candidate parameter settings.\"\n",
    "      % (time() - start, len(grid_search_RF.cv_results_['params'])))\n",
    "report(grid_search_RF.cv_results_)"
   ]
  },
  {
   "cell_type": "code",
   "execution_count": 32,
   "metadata": {},
   "outputs": [
    {
     "data": {
      "text/plain": [
       "0.8604770191421844"
      ]
     },
     "execution_count": 32,
     "metadata": {},
     "output_type": "execute_result"
    }
   ],
   "source": [
    "grid_search_RF.best_estimator_.score(X_test, y_test)"
   ]
  },
  {
   "cell_type": "code",
   "execution_count": 41,
   "metadata": {},
   "outputs": [
    {
     "name": "stdout",
     "output_type": "stream",
     "text": [
      "RandomizedSearchCV took 22.70 seconds for 20 candidates parameter settings.\n",
      "Model with rank: 1\n",
      "Mean validation score: 0.864 (std: 0.002)\n",
      "Parameters: {'bootstrap': True, 'criterion': 'gini', 'max_depth': None, 'max_features': 7, 'min_samples_leaf': 5, 'min_samples_split': 4}\n",
      "\n",
      "Model with rank: 2\n",
      "Mean validation score: 0.863 (std: 0.001)\n",
      "Parameters: {'bootstrap': True, 'criterion': 'entropy', 'max_depth': None, 'max_features': 10, 'min_samples_leaf': 6, 'min_samples_split': 7}\n",
      "\n",
      "Model with rank: 3\n",
      "Mean validation score: 0.863 (std: 0.002)\n",
      "Parameters: {'bootstrap': False, 'criterion': 'entropy', 'max_depth': None, 'max_features': 18, 'min_samples_leaf': 10, 'min_samples_split': 2}\n",
      "\n"
     ]
    }
   ],
   "source": [
    "RF2 = RandomForestClassifier(n_jobs = -1)\n",
    "\n",
    "# Specify parameters and distributions to sample from\n",
    "param_dist_RF = {\"max_depth\": [3, None],\n",
    "                 \"max_features\": sp_randint(1, 47),\n",
    "                 \"min_samples_split\": sp_randint(2, 11),\n",
    "                 \"min_samples_leaf\": sp_randint(1, 11),\n",
    "                 \"bootstrap\": [True, False],\n",
    "                 \"criterion\": [\"gini\", \"entropy\"]}\n",
    "\n",
    "\n",
    "# Randomized search\n",
    "n_iter_search = 20\n",
    "random_search_RF = RandomizedSearchCV(RF2, param_distributions=param_dist_RF,\n",
    "                                   n_iter=n_iter_search)\n",
    "\n",
    "start = time()\n",
    "random_search_RF.fit(X, y)\n",
    "print(\"RandomizedSearchCV took %.2f seconds for %d candidates\"\n",
    "      \" parameter settings.\" % ((time() - start), n_iter_search))\n",
    "report(random_search_RF.cv_results_)"
   ]
  },
  {
   "cell_type": "code",
   "execution_count": 42,
   "metadata": {},
   "outputs": [
    {
     "data": {
      "text/plain": [
       "0.8752175248234211"
      ]
     },
     "execution_count": 42,
     "metadata": {},
     "output_type": "execute_result"
    }
   ],
   "source": [
    "random_search_RF.best_estimator_.score(X_test, y_test)"
   ]
  },
  {
   "cell_type": "code",
   "execution_count": 38,
   "metadata": {},
   "outputs": [
    {
     "data": {
      "text/plain": [
       "(9769,)"
      ]
     },
     "execution_count": 38,
     "metadata": {},
     "output_type": "execute_result"
    }
   ],
   "source": [
    "y_test.shape"
   ]
  },
  {
   "cell_type": "code",
   "execution_count": 44,
   "metadata": {},
   "outputs": [
    {
     "name": "stdout",
     "output_type": "stream",
     "text": [
      "RandomizedSearchCV took 134.33 seconds for 20 candidates parameter settings.\n",
      "Model with rank: 1\n",
      "Mean validation score: 0.832 (std: 0.002)\n",
      "Parameters: {'n_neighbors': 9}\n",
      "\n",
      "Model with rank: 2\n",
      "Mean validation score: 0.829 (std: 0.003)\n",
      "Parameters: {'n_neighbors': 7}\n",
      "\n",
      "Model with rank: 3\n",
      "Mean validation score: 0.825 (std: 0.004)\n",
      "Parameters: {'n_neighbors': 5}\n",
      "\n"
     ]
    }
   ],
   "source": [
    "knn = KNeighborsClassifier(n_jobs = -1)\n",
    "\n",
    "param_grid_KNN = {\"n_neighbors\": range(1, 10, 2)}\n",
    "\n",
    "grid_search_KNN = GridSearchCV(knn, param_grid=param_grid_KNN,\n",
    "                                    n_jobs = -1)\n",
    "\n",
    "start = time()\n",
    "grid_search_KNN.fit(X, y)\n",
    "pprint(\"GridSearchCV took %.2f seconds for %d candidate parameter settings.\"\n",
    "      % (time() - start, len(grid_search_RF_encoded.cv_results_['params'])))\n",
    "report(grid_search_KNN.cv_results_)"
   ]
  },
  {
   "cell_type": "code",
   "execution_count": 45,
   "metadata": {},
   "outputs": [
    {
     "data": {
      "text/plain": [
       "0.8561777049851571"
      ]
     },
     "execution_count": 45,
     "metadata": {},
     "output_type": "execute_result"
    }
   ],
   "source": [
    "grid_search_KNN.best_estimator_.score(X_test, y_test)"
   ]
  },
  {
   "cell_type": "code",
   "execution_count": 46,
   "metadata": {},
   "outputs": [
    {
     "data": {
      "text/plain": [
       "0.8316101955164296"
      ]
     },
     "execution_count": 46,
     "metadata": {},
     "output_type": "execute_result"
    }
   ],
   "source": [
    "from sklearn import svm\n",
    "svm = svm.SVC()\n",
    "svm.fit(X_train, y_train)\n",
    "svm.score(X_test, y_test)"
   ]
  },
  {
   "cell_type": "code",
   "execution_count": null,
   "metadata": {},
   "outputs": [],
   "source": [
    "import scipy\n",
    "\n",
    "from sklearn import svm\n",
    "SVM = svm.SVC()\n",
    "\n",
    "\n",
    "param_dist_SVM = {\"C\": scipy.stats.expon(scale=100), \n",
    "                  'gamma': scipy.stats.expon(scale=.1),\n",
    "                  'kernel': ['rbf'], \n",
    "                  'class_weight':['balanced', None]}\n",
    "\n",
    "# Randomized search\n",
    "n_iter_search = 40\n",
    "random_search_SVM = RandomizedSearchCV(SVM, param_distributions=param_dist_SVM,\n",
    "                                   n_iter=n_iter_search)\n",
    "\n",
    "start = time()\n",
    "random_search_SVM.fit(X, y)\n",
    "print(\"RandomizedSearchCV took %.2f seconds for %d candidates\"\n",
    "      \" parameter settings.\" % ((time() - start), n_iter_search))\n",
    "report(random_search_SVM.cv_results_)"
   ]
  },
  {
   "cell_type": "code",
   "execution_count": null,
   "metadata": {},
   "outputs": [],
   "source": [
    "parameters = {'kernel':('linear', 'rbf'), 'C':[1, 10]}\n"
   ]
  },
  {
   "cell_type": "code",
   "execution_count": null,
   "metadata": {},
   "outputs": [],
   "source": []
  },
  {
   "cell_type": "code",
   "execution_count": 20,
   "metadata": {},
   "outputs": [],
   "source": [
    "from sklearn.model_selection import cross_val_score, KFold\n",
    "from sklearn.metrics import roc_auc_score, average_precision_score\n",
    "import time\n",
    "%matplotlib inline\n",
    "from matplotlib.ticker import FuncFormatter\n",
    "import seaborn as sns\n",
    "\n",
    "def tracePerformancesPercentage(dictionnaire): \n",
    "    pass\n",
    "    \n",
    "def runClassifiers(clfs, X, Y, graphe = True) :\n",
    "    kf = KFold(n_splits=10, shuffle=True, random_state=0)\n",
    "    kf2 = KFold(n_splits=5, shuffle=True, random_state=0)\n",
    "    \n",
    "    \n",
    "    cv_acc = {}\n",
    "    cv_auc = {}\n",
    "    cv_prec = {}\n",
    "    cv_prec5 = {}\n",
    "    t0 = {}\n",
    "    t1 = {}\n",
    "    \n",
    "    for i in clfs: # Ça c'est la clé.\n",
    "        print(i)\n",
    "        t0[i] = time.time()\n",
    "        clf = clfs[i] #clf correspond au ième algorithme dans le dictionnaire clfs.\n",
    "        # Ça, c'est la valeur.\n",
    "        cv_acc[i] = cross_val_score(clf, X, Y, cv=kf, scoring = 'accuracy' )                       #\n",
    "        # cv_auc[i] = cross_val_score(clf, X, Y, cv=kf, scoring='roc_auc')     # voir http://scikit-learn.org/stable/modules/model_evaluation.html\n",
    "        # cv_prec[i] = cross_val_score(clf, X, Y, cv=kf, scoring='precision')  #\n",
    "        # cv_prec5[i] = cross_val_score(clf, X, Y, cv=kf2, scoring='precision')#\n",
    "        t1[i] = time.time()\n",
    "        print(\"estimations par validation croisée 10 fold de {0} :\".format(i))\n",
    "        print(\"Taux biens classés = {0:.3f} +/- {1:.3f}\".format(np.mean(cv_acc[i]), np.std(cv_acc[i])))\n",
    "        # print(\"AUC = {0:.3f} +/- {1:.3f}\".format(np.mean(cv_auc[i]), np.std(cv_auc[i])))\n",
    "        # print(\"Précision = {0:.3f} +/- {1:.3f}\".format(np.mean(cv_prec[i]), np.std(cv_prec[i])))\n",
    "        # print(\"Précision (5 fold) = {0:.3f} +/- {1:.3f}\".format(np.mean(cv_prec5[i]), np.std(cv_prec5[i])))\n",
    "        print(\"Temps d'exécution = {0:.3f} secondes\".format(t1[i] - t0[i]))\n",
    "        print('\\n')\n",
    "\n",
    "    if graphe:\n",
    "        cv_acc_df = pd.DataFrame.from_dict(cv_acc)\n",
    "        # cv_prec_df = pd.DataFrame.from_dict(cv_prec)\n",
    "        # cv_prec5_df = pd.DataFrame.from_dict(cv_prec5)\n",
    "\n",
    "        plt.figure(figsize=(30, 8))\n",
    "#         ax1 = plt.subplot(121)\n",
    "#         ax1 = sns.boxplot(data = cv_prec_df, palette=\"Set3\", orient = \"h\")\n",
    "#         ax1.tick_params(labelsize = 25, colors='darkblue')\n",
    "#         ax1.set_title(\"Précision par validation croisée 10-folds\", fontsize = 30)\n",
    "#         ax2 = plt.subplot(122)\n",
    "#         ax2 = sns.boxplot(data = cv_prec5_df, palette=\"Set3\", orient = \"h\")\n",
    "#         ax2.set_yticklabels([])\n",
    "#         ax2.tick_params(labelsize = 25, colors='darkblue')\n",
    "#         ax2.set_title(\"Précision par validation croisée 5-folds\", fontsize = 30)\n",
    "        sns.boxplot(data = cv_acc_df, palette=\"Set3\", orient = \"h\")\n",
    "        \n",
    "        plt.show()\n"
   ]
  },
  {
   "cell_type": "code",
   "execution_count": 21,
   "metadata": {},
   "outputs": [
    {
     "name": "stdout",
     "output_type": "stream",
     "text": [
      "KNN 1\n",
      "estimations par validation croisée 10 fold de KNN 1 :\n",
      "Taux biens classés = 0.797 +/- 0.004\n",
      "Temps d'exécution = 30.507 secondes\n",
      "\n",
      "\n",
      "KNN 3\n",
      "estimations par validation croisée 10 fold de KNN 3 :\n",
      "Taux biens classés = 0.819 +/- 0.006\n",
      "Temps d'exécution = 34.566 secondes\n",
      "\n",
      "\n"
     ]
    },
    {
     "name": "stderr",
     "output_type": "stream",
     "text": [
      "/home/ubuntu/anaconda3/lib/python3.6/site-packages/seaborn/categorical.py:462: FutureWarning: remove_na is deprecated and is a private function. Do not use.\n",
      "  box_data = remove_na(group_data)\n"
     ]
    },
    {
     "data": {
      "image/png": "[encoded data removed]",
      "text/plain": [
       "<matplotlib.figure.Figure at 0x7f63802d8908>"
      ]
     },
     "metadata": {},
     "output_type": "display_data"
    }
   ],
   "source": [
    "algos = { key:value for key,value in Liste.items() if key in [\"KNN 1\", \"KNN 3\"]}\n",
    "\n",
    "runClassifiers(algos, X, y, graphe = True)"
   ]
  },
  {
   "cell_type": "code",
   "execution_count": 19,
   "metadata": {},
   "outputs": [
    {
     "name": "stdout",
     "output_type": "stream",
     "text": [
      "KNN 5\n",
      "estimations par validation croisée 10 fold de KNN 5 :\n",
      "Taux biens classés = 0.828 +/- 0.005\n",
      "AUC = 0.844 +/- 0.007\n",
      "Précision = 0.664 +/- 0.015\n",
      "Précision (5 fold) = 0.663 +/- 0.012\n",
      "Temps d'exécution = 139.375 secondes\n",
      "\n",
      "\n",
      "KNN 7\n",
      "estimations par validation croisée 10 fold de KNN 7 :\n",
      "Taux biens classés = 0.831 +/- 0.006\n",
      "AUC = 0.857 +/- 0.008\n",
      "Précision = 0.677 +/- 0.017\n",
      "Précision (5 fold) = 0.675 +/- 0.012\n",
      "Temps d'exécution = 145.287 secondes\n",
      "\n",
      "\n"
     ]
    },
    {
     "name": "stderr",
     "output_type": "stream",
     "text": [
      "/home/ubuntu/anaconda3/lib/python3.6/site-packages/seaborn/categorical.py:462: FutureWarning: remove_na is deprecated and is a private function. Do not use.\n",
      "  box_data = remove_na(group_data)\n"
     ]
    },
    {
     "data": {
      "image/png": "[encoded data removed]",
      "text/plain": [
       "<matplotlib.figure.Figure at 0x7f6380517358>"
      ]
     },
     "metadata": {},
     "output_type": "display_data"
    }
   ],
   "source": [
    "algos = { key:value for key,value in Liste.items() if key in [\"KNN 5\", \"KNN 7\"]}\n",
    "runClassifiers(algos, X, y, graphe = True)"
   ]
  },
  {
   "cell_type": "code",
   "execution_count": null,
   "metadata": {},
   "outputs": [],
   "source": []
  },
  {
   "cell_type": "code",
   "execution_count": 11,
   "metadata": {
    "scrolled": false
   },
   "outputs": [
    {
     "name": "stdout",
     "output_type": "stream",
     "text": [
      "estimations par validation croisée 10 fold de Naive_Bayes_Gaussien :\n",
      "Taux biens classés = 0.672 +/- 0.009\n",
      "AUC = 0.870 +/- 0.010\n",
      "Précision = 0.416 +/- 0.012\n",
      "Précision (5 fold) = 0.416 +/- 0.011\n",
      "Temps d'exécution = 1.730 secondes\n",
      "\n",
      "\n",
      "estimations par validation croisée 10 fold de CART :\n",
      "Taux biens classés = 0.822 +/- 0.005\n",
      "AUC = 0.777 +/- 0.006\n",
      "Précision = 0.633 +/- 0.015\n",
      "Précision (5 fold) = 0.633 +/- 0.007\n",
      "Temps d'exécution = 9.012 secondes\n",
      "\n",
      "\n",
      "estimations par validation croisée 10 fold de Decision Stump :\n",
      "Taux biens classés = 0.803 +/- 0.005\n",
      "AUC = 0.593 +/- 0.009\n",
      "Précision = 0.946 +/- 0.009\n",
      "Précision (5 fold) = 0.947 +/- 0.003\n",
      "Temps d'exécution = 1.101 secondes\n",
      "\n",
      "\n",
      "estimations par validation croisée 10 fold de Reseau Neuronal 1 couche cachée :\n",
      "Taux biens classés = 0.856 +/- 0.005\n",
      "AUC = 0.910 +/- 0.005\n",
      "Précision = 0.738 +/- 0.017\n",
      "Précision (5 fold) = 0.737 +/- 0.011\n",
      "Temps d'exécution = 303.992 secondes\n",
      "\n",
      "\n",
      "estimations par validation croisée 10 fold de Reseau_Neuronal 2 couches cachées :\n",
      "Taux biens classés = 0.854 +/- 0.005\n",
      "AUC = 0.909 +/- 0.005\n",
      "Précision = 0.733 +/- 0.015\n",
      "Précision (5 fold) = 0.732 +/- 0.009\n",
      "Temps d'exécution = 365.255 secondes\n",
      "\n",
      "\n",
      "estimations par validation croisée 10 fold de Bagging :\n",
      "Taux biens classés = 0.845 +/- 0.005\n",
      "AUC = 0.874 +/- 0.005\n",
      "Précision = 0.703 +/- 0.011\n",
      "Précision (5 fold) = 0.698 +/- 0.006\n",
      "Temps d'exécution = 56.555 secondes\n",
      "\n",
      "\n",
      "estimations par validation croisée 10 fold de AdaBoost 10 :\n",
      "Taux biens classés = 0.836 +/- 0.006\n",
      "AUC = 0.862 +/- 0.007\n",
      "Précision = 0.731 +/- 0.015\n",
      "Précision (5 fold) = 0.744 +/- 0.006\n",
      "Temps d'exécution = 7.877 secondes\n",
      "\n",
      "\n",
      "estimations par validation croisée 10 fold de AdaBoost 50 :\n",
      "Taux biens classés = 0.852 +/- 0.005\n",
      "AUC = 0.902 +/- 0.004\n",
      "Précision = 0.765 +/- 0.012\n",
      "Précision (5 fold) = 0.773 +/- 0.009\n",
      "Temps d'exécution = 37.408 secondes\n",
      "\n",
      "\n",
      "estimations par validation croisée 10 fold de KNN 4 :\n",
      "Taux biens classés = 0.825 +/- 0.004\n",
      "AUC = 0.832 +/- 0.006\n",
      "Précision = 0.708 +/- 0.015\n",
      "Précision (5 fold) = 0.710 +/- 0.011\n",
      "Temps d'exécution = 307.359 secondes\n",
      "\n",
      "\n",
      "estimations par validation croisée 10 fold de KNN 10 :\n",
      "Taux biens classés = 0.834 +/- 0.005\n",
      "AUC = 0.868 +/- 0.007\n",
      "Précision = 0.713 +/- 0.013\n",
      "Précision (5 fold) = 0.713 +/- 0.012\n",
      "Temps d'exécution = 374.559 secondes\n",
      "\n",
      "\n",
      "estimations par validation croisée 10 fold de Forêt_Aléatoire 15 arbres :\n",
      "Taux biens classés = 0.844 +/- 0.005\n",
      "AUC = 0.879 +/- 0.004\n",
      "Précision = 0.699 +/- 0.014\n",
      "Précision (5 fold) = 0.696 +/- 0.005\n",
      "Temps d'exécution = 21.654 secondes\n",
      "\n",
      "\n",
      "estimations par validation croisée 10 fold de Forêt_Aléatoire 50 arbres :\n",
      "Taux biens classés = 0.848 +/- 0.006\n",
      "AUC = 0.889 +/- 0.005\n",
      "Précision = 0.708 +/- 0.014\n",
      "Précision (5 fold) = 0.708 +/- 0.010\n",
      "Temps d'exécution = 70.423 secondes\n",
      "\n",
      "\n"
     ]
    },
    {
     "name": "stderr",
     "output_type": "stream",
     "text": [
      "/home/ubuntu/anaconda3/lib/python3.6/site-packages/seaborn/categorical.py:462: FutureWarning: remove_na is deprecated and is a private function. Do not use.\n",
      "  box_data = remove_na(group_data)\n"
     ]
    },
    {
     "data": {
      "image/png": "[encoded data removed]",
      "text/plain": [
       "<matplotlib.figure.Figure at 0x7fefe09df860>"
      ]
     },
     "metadata": {},
     "output_type": "display_data"
    }
   ],
   "source": [
    "runClassifiers(Liste, X, y, graphe = True)"
   ]
  },
  {
   "cell_type": "markdown",
   "metadata": {},
   "source": [
    "We try to save all the models:"
   ]
  },
  {
   "cell_type": "code",
   "execution_count": 13,
   "metadata": {},
   "outputs": [],
   "source": [
    "import dill as pickle\n",
    "\n",
    "filename = \"classicalModels\"\n",
    "pickle.dump(Liste, open(filename, \"wb\"))"
   ]
  },
  {
   "cell_type": "code",
   "execution_count": null,
   "metadata": {},
   "outputs": [],
   "source": []
  }
 ],
 "metadata": {
  "kernelspec": {
   "display_name": "Python 3",
   "language": "python",
   "name": "python3"
  },
  "language_info": {
   "codemirror_mode": {
    "name": "ipython",
    "version": 3
   },
   "file_extension": ".py",
   "mimetype": "text/x-python",
   "name": "python",
   "nbconvert_exporter": "python",
   "pygments_lexer": "ipython3",
   "version": "3.6.2"
  }
 },
 "nbformat": 4,
 "nbformat_minor": 2
}
